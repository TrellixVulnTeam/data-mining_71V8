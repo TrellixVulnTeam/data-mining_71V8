{
 "cells": [
  {
   "cell_type": "code",
   "execution_count": 1,
   "metadata": {},
   "outputs": [],
   "source": [
    "import pandas as pd\n",
    "import seaborn as sns\n",
    "import matplotlib.pyplot as plt\n",
    "import sklearn as skl\n",
    "import numpy as np\n",
    "%matplotlib inline"
   ]
  },
  {
   "cell_type": "code",
   "execution_count": 2,
   "metadata": {},
   "outputs": [],
   "source": [
    "from sklearn import metrics, model_selection, linear_model\n",
    "from sklearn.metrics import mean_absolute_error as mae, mean_squared_error as mse"
   ]
  },
  {
   "cell_type": "code",
   "execution_count": 3,
   "metadata": {},
   "outputs": [],
   "source": [
    "path = \"data/toy_data.csv\"\n",
    "rawData = pd.read_csv(path)\n",
    "x = rawData[\"x\"]\n",
    "y = rawData[\"y\"]"
   ]
  },
  {
   "cell_type": "code",
   "execution_count": 4,
   "metadata": {},
   "outputs": [],
   "source": [
    "def CreateConfusionMatrix(gt, pred, pos, neg, output):\n",
    "    nVals = 0\n",
    "    try:\n",
    "        if gt.shape != pred.shape:\n",
    "            raise Exception(\"Arrays for ground truth and predicted values have different lengths.\")\n",
    "        else:\n",
    "            nVals = gt.shape\n",
    "    except:\n",
    "        if len(gt) != len(pred):\n",
    "            raise Exception(\"Arrays for ground truth and predicted values have different lengths.\")\n",
    "        else:\n",
    "            nVals = len(gt)\n",
    "\n",
    "    tp = tn = fp = fn = 0\n",
    "        \n",
    "    for i in range(nVals):\n",
    "        if gt[i] == pred[i]: # True\n",
    "            if pred[i] == pos: # Pos\n",
    "                tp += 1\n",
    "            else: # Neg\n",
    "                tn += 1\n",
    "        else: # False\n",
    "            if pred[i] == pos: # Pos\n",
    "                fp += 1\n",
    "            else: # Neg\n",
    "                fn += 1\n",
    "    if output == True:\n",
    "        print(\"       Postive     Negative      \")\n",
    "        print(\"True      \"+ str(tp) +\"     |     \"+ str(tn) +\"\")\n",
    "        print(\"False     \"+ str(fp) +\"     |     \"+ str(fn) +\"\")\n",
    "\n",
    "    return {\"tp\":tp, \"tn\":tn, \"fp\":fp, \"fn\":fn}"
   ]
  },
  {
   "cell_type": "code",
   "execution_count": 5,
   "metadata": {},
   "outputs": [
    {
     "data": {
      "text/plain": [
       "[<matplotlib.lines.Line2D at 0x2697e615a90>]"
      ]
     },
     "execution_count": 5,
     "metadata": {},
     "output_type": "execute_result"
    },
    {
     "data": {
      "image/png": "[encoded data removed]",
      "text/plain": [
       "<Figure size 432x288 with 1 Axes>"
      ]
     },
     "metadata": {
      "needs_background": "light"
     },
     "output_type": "display_data"
    }
   ],
   "source": [
    "plt.plot(rawData[\"x\"], rawData[\"y\"],)"
   ]
  },
  {
   "cell_type": "code",
   "execution_count": 6,
   "metadata": {},
   "outputs": [
    {
     "data": {
      "text/plain": [
       "<matplotlib.collections.PathCollection at 0x2697e6d8080>"
      ]
     },
     "execution_count": 6,
     "metadata": {},
     "output_type": "execute_result"
    },
    {
     "data": {
      "image/png": "[encoded data removed]",
      "text/plain": [
       "<Figure size 432x288 with 1 Axes>"
      ]
     },
     "metadata": {
      "needs_background": "light"
     },
     "output_type": "display_data"
    }
   ],
   "source": [
    "plt.scatter(x=rawData[\"x\"], y=rawData[\"y\"])"
   ]
  },
  {
   "cell_type": "code",
   "execution_count": 7,
   "metadata": {},
   "outputs": [
    {
     "name": "stdout",
     "output_type": "stream",
     "text": [
      "       Postive     Negative      \n",
      "True      0     |     7\n",
      "False     0     |     10\n",
      "{'tp': 0, 'tn': 7, 'fp': 0, 'fn': 10}\n"
     ]
    }
   ],
   "source": [
    "gt = [ \"C\", \"NC\", \"C\", \"C\", \"C\", \"NC\", \"NC\", \"NC\", \"NC\", \"C\", \"NC\",\n",
    "\"NC\", \"C\", \"C\", \"NC\", \"NC\", \"NC\" ]\n",
    "pred = [ \"NC\", \"NC\", \"NC\", \"NC\", \"C\", \"NC\", \"NC\", \"C\", \"NC\", \"NC\", \"C\",\n",
    "\"C\", \"NC\", \"NC\", \"NC\", \"C\", \"NC\" ]\n",
    "\n",
    "vals = CreateConfusionMatrix(gt, pred, \"gt\", \"pred\", True)\n",
    "print(vals)"
   ]
  },
  {
   "cell_type": "code",
   "execution_count": 8,
   "metadata": {},
   "outputs": [],
   "source": [
    "def CalcAcc(cm, nDp=2):\n",
    "    et =  cm[\"tp\"] + cm[\"tn\"]\n",
    "    ef =  cm[\"fp\"] + cm[\"fn\"]\n",
    "    e =  et + ef\n",
    "    if nDp > 0:\n",
    "        acc = round((100 / e) * et, nDp)\n",
    "    else:\n",
    "        acc = int((100 / e) * et)\n",
    "\n",
    "    return acc"
   ]
  },
  {
   "cell_type": "code",
   "execution_count": 9,
   "metadata": {},
   "outputs": [
    {
     "name": "stdout",
     "output_type": "stream",
     "text": [
      "41.18%\n"
     ]
    }
   ],
   "source": [
    "print(str(CalcAcc(vals)) + \"%\")"
   ]
  },
  {
   "cell_type": "code",
   "execution_count": 10,
   "metadata": {},
   "outputs": [
    {
     "name": "stdout",
     "output_type": "stream",
     "text": [
      "1\n",
      "4\n",
      "6\n",
      "6\n"
     ]
    },
    {
     "data": {
      "text/plain": [
       "array([[1, 6],\n",
       "       [4, 6]], dtype=int64)"
      ]
     },
     "execution_count": 10,
     "metadata": {},
     "output_type": "execute_result"
    }
   ],
   "source": [
    "tn, fp, fn, tp = skl.metrics.confusion_matrix(gt, pred).ravel()\n",
    "\n",
    "print(tn)\n",
    "print(fn)\n",
    "print(tp)\n",
    "print(fp)\n",
    "\n",
    "skl.metrics.confusion_matrix(gt, pred)"
   ]
  },
  {
   "cell_type": "code",
   "execution_count": 11,
   "metadata": {},
   "outputs": [
    {
     "data": {
      "text/plain": [
       "0.4117647058823529"
      ]
     },
     "execution_count": 11,
     "metadata": {},
     "output_type": "execute_result"
    }
   ],
   "source": [
    "skl.metrics.accuracy_score(gt, pred)"
   ]
  },
  {
   "cell_type": "code",
   "execution_count": 12,
   "metadata": {},
   "outputs": [
    {
     "data": {
      "text/plain": [
       "'              precision    recall  f1-score   support\\n\\n           C       0.20      0.14      0.17         7\\n          NC       0.50      0.60      0.55        10\\n\\n    accuracy                           0.41        17\\n   macro avg       0.35      0.37      0.36        17\\nweighted avg       0.38      0.41      0.39        17\\n'"
      ]
     },
     "execution_count": 12,
     "metadata": {},
     "output_type": "execute_result"
    }
   ],
   "source": [
    "skl.metrics.classification_report(gt, pred)"
   ]
  },
  {
   "cell_type": "code",
   "execution_count": 13,
   "metadata": {},
   "outputs": [],
   "source": [
    "xtr, xte, ytr, yte = skl.model_selection.train_test_split(list(x), list(y))"
   ]
  },
  {
   "cell_type": "code",
   "execution_count": 14,
   "metadata": {},
   "outputs": [
    {
     "data": {
      "text/plain": [
       "<matplotlib.collections.PathCollection at 0x2697e75e208>"
      ]
     },
     "execution_count": 14,
     "metadata": {},
     "output_type": "execute_result"
    },
    {
     "data": {
      "image/png": "[encoded data removed]",
      "text/plain": [
       "<Figure size 432x288 with 1 Axes>"
      ]
     },
     "metadata": {
      "needs_background": "light"
     },
     "output_type": "display_data"
    }
   ],
   "source": [
    "plt.scatter(xtr, ytr)"
   ]
  },
  {
   "cell_type": "code",
   "execution_count": 15,
   "metadata": {},
   "outputs": [
    {
     "data": {
      "text/plain": [
       "<matplotlib.collections.PathCollection at 0x2697e7bcba8>"
      ]
     },
     "execution_count": 15,
     "metadata": {},
     "output_type": "execute_result"
    },
    {
     "data": {
      "image/png": "[encoded data removed]",
      "text/plain": [
       "<Figure size 432x288 with 1 Axes>"
      ]
     },
     "metadata": {
      "needs_background": "light"
     },
     "output_type": "display_data"
    }
   ],
   "source": [
    "plt.scatter(xte, yte)"
   ]
  },
  {
   "cell_type": "code",
   "execution_count": 16,
   "metadata": {},
   "outputs": [],
   "source": [
    "xtr, xte, ytr, yte = skl.model_selection.train_test_split(list(x), list(y), shuffle=True)"
   ]
  },
  {
   "cell_type": "code",
   "execution_count": 17,
   "metadata": {},
   "outputs": [
    {
     "data": {
      "text/plain": [
       "<matplotlib.collections.PathCollection at 0x2697e815cf8>"
      ]
     },
     "execution_count": 17,
     "metadata": {},
     "output_type": "execute_result"
    },
    {
     "data": {
      "image/png": "[encoded data removed]",
      "text/plain": [
       "<Figure size 432x288 with 1 Axes>"
      ]
     },
     "metadata": {
      "needs_background": "light"
     },
     "output_type": "display_data"
    }
   ],
   "source": [
    "plt.scatter(xtr, ytr)"
   ]
  },
  {
   "cell_type": "code",
   "execution_count": 18,
   "metadata": {},
   "outputs": [
    {
     "data": {
      "text/plain": [
       "<matplotlib.collections.PathCollection at 0x2697e87c630>"
      ]
     },
     "execution_count": 18,
     "metadata": {},
     "output_type": "execute_result"
    },
    {
     "data": {
      "image/png": "[encoded data removed]",
      "text/plain": [
       "<Figure size 432x288 with 1 Axes>"
      ]
     },
     "metadata": {
      "needs_background": "light"
     },
     "output_type": "display_data"
    }
   ],
   "source": [
    "plt.scatter(xte, yte)"
   ]
  },
  {
   "cell_type": "code",
   "execution_count": 19,
   "metadata": {},
   "outputs": [],
   "source": [
    "model = skl.linear_model.LinearRegression()"
   ]
  },
  {
   "cell_type": "code",
   "execution_count": 38,
   "metadata": {},
   "outputs": [
    {
     "name": "stdout",
     "output_type": "stream",
     "text": [
      "Completed\n"
     ]
    }
   ],
   "source": [
    "xtrR = np.asarray(xtr).reshape(-1, 1)\n",
    "ytrR = np.asarray(ytr).reshape(-1, 1)\n",
    "\n",
    "fittedModel = model.fit(X=xtrR, y=ytrR)\n",
    "print(\"Completed\")"
   ]
  },
  {
   "cell_type": "code",
   "execution_count": 39,
   "metadata": {},
   "outputs": [],
   "source": [
    "xteR = np.asarray(xte).reshape(-1, 1)\n",
    "yteR = np.asarray(yte).reshape(-1, 1)"
   ]
  },
  {
   "cell_type": "code",
   "execution_count": 43,
   "metadata": {},
   "outputs": [
    {
     "name": "stdout",
     "output_type": "stream",
     "text": [
      "Train loss:\n",
      "147.94646400409724\n",
      "35007.04731755829\n",
      "Test loss:\n",
      "139.35839290796835\n",
      "35990.869228938864\n"
     ]
    }
   ],
   "source": [
    "print(\"Train loss:\")\n",
    "print(mae(ytrR, fittedModel.predict(xtrR)))\n",
    "print(mse(ytrR, fittedModel.predict(xtrR)))\n",
    "print(\"Test loss:\")\n",
    "print(mae(yteR, fittedModel.predict(xteR)))\n",
    "print(mse(yteR, fittedModel.predict(xteR)))"
   ]
  },
  {
   "cell_type": "code",
   "execution_count": 52,
   "metadata": {},
   "outputs": [
    {
     "data": {
      "text/plain": [
       "[<matplotlib.lines.Line2D at 0x2697e9e7518>]"
      ]
     },
     "execution_count": 52,
     "metadata": {},
     "output_type": "execute_result"
    },
    {
     "data": {
      "image/png": "[encoded data removed]",
      "text/plain": [
       "<Figure size 432x288 with 1 Axes>"
      ]
     },
     "metadata": {
      "needs_background": "light"
     },
     "output_type": "display_data"
    }
   ],
   "source": [
    "ypred = fittedModel.predict(xteR).ravel()\n",
    "plt.plot(xte, ypred)"
   ]
  },
  {
   "cell_type": "code",
   "execution_count": null,
   "metadata": {},
   "outputs": [],
   "source": []
  }
 ],
 "metadata": {
  "kernelspec": {
   "display_name": "Python 3",
   "language": "python",
   "name": "python3"
  },
  "language_info": {
   "codemirror_mode": {
    "name": "ipython",
    "version": 3
   },
   "file_extension": ".py",
   "mimetype": "text/x-python",
   "name": "python",
   "nbconvert_exporter": "python",
   "pygments_lexer": "ipython3",
   "version": "3.7.5"
  }
 },
 "nbformat": 4,
 "nbformat_minor": 2
}
