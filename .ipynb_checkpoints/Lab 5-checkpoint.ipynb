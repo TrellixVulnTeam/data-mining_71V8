{
 "cells": [
  {
   "cell_type": "code",
   "execution_count": 2,
   "metadata": {},
   "outputs": [],
   "source": [
    "import pandas as pd\n",
    "import seaborn as sns\n",
    "import matplotlib.pyplot as plt\n",
    "import sklearn as skl\n",
    "import numpy as np\n",
    "%matplotlib inline"
   ]
  },
  {
   "cell_type": "code",
   "execution_count": 16,
   "metadata": {},
   "outputs": [],
   "source": [
    "path = \"data/toy_data_harder.csv\"\n",
    "rawData = pd.read_csv(path)\n",
    "x = rawData[\"x\"]\n",
    "y = rawData[\"y\"]"
   ]
  },
  {
   "cell_type": "code",
   "execution_count": 42,
   "metadata": {},
   "outputs": [],
   "source": [
    "def CreateConfusionMatrix(gt, pred, pos, neg, output):\n",
    "    nVals = 0\n",
    "    try:\n",
    "        if gt.shape != pred.shape:\n",
    "            raise Exception(\"Arrays for ground truth and predicted values have different lengths.\")\n",
    "        else:\n",
    "            nVals = gt.shape\n",
    "    except:\n",
    "        if len(gt) != len(pred):\n",
    "            raise Exception(\"Arrays for ground truth and predicted values have different lengths.\")\n",
    "        else:\n",
    "            nVals = len(gt)\n",
    "\n",
    "    tp = tn = fp = fn = 0\n",
    "        \n",
    "    for i in range(nVals):\n",
    "        if gt[i] == pred[i]: # True\n",
    "            if pred[i] == pos: # Pos\n",
    "                tp += 1\n",
    "            else: # Neg\n",
    "                tn += 1\n",
    "        else: # False\n",
    "            if pred[i] == pos: # Pos\n",
    "                fp += 1\n",
    "            else: # Neg\n",
    "                fn += 1\n",
    "    if output == True:\n",
    "        print(\"       Postive     Negative      \")\n",
    "        print(\"True      \"+ str(tp) +\"     |     \"+ str(tn) +\"\")\n",
    "        print(\"False     \"+ str(fp) +\"     |     \"+ str(fn) +\"\")\n",
    "\n",
    "    return {\"tp\":tp, \"tn\":tn, \"fp\":fp, \"fn\":fn}"
   ]
  },
  {
   "cell_type": "code",
   "execution_count": 18,
   "metadata": {},
   "outputs": [
    {
     "data": {
      "text/plain": [
       "[<matplotlib.lines.Line2D at 0x113d9671b70>]"
      ]
     },
     "execution_count": 18,
     "metadata": {},
     "output_type": "execute_result"
    },
    {
     "data": {
      "image/png": "[encoded data removed]",
      "text/plain": [
       "<Figure size 432x288 with 1 Axes>"
      ]
     },
     "metadata": {
      "needs_background": "light"
     },
     "output_type": "display_data"
    }
   ],
   "source": [
    "plt.plot(rawData[\"x\"], rawData[\"y\"],)"
   ]
  },
  {
   "cell_type": "code",
   "execution_count": 9,
   "metadata": {},
   "outputs": [
    {
     "data": {
      "text/plain": [
       "<matplotlib.collections.PathCollection at 0x113d9384eb8>"
      ]
     },
     "execution_count": 9,
     "metadata": {},
     "output_type": "execute_result"
    },
    {
     "data": {
      "image/png": "[encoded data removed]",
      "text/plain": [
       "<Figure size 432x288 with 1 Axes>"
      ]
     },
     "metadata": {
      "needs_background": "light"
     },
     "output_type": "display_data"
    }
   ],
   "source": [
    "plt.scatter(x=rawData[\"x\"], y=rawData[\"y\"])"
   ]
  },
  {
   "cell_type": "code",
   "execution_count": 44,
   "metadata": {},
   "outputs": [
    {
     "name": "stdout",
     "output_type": "stream",
     "text": [
      "       Postive     Negative      \n",
      "True      0     |     7\n",
      "False     0     |     10\n",
      "{'tp': 0, 'tn': 7, 'fp': 0, 'fn': 10}\n"
     ]
    }
   ],
   "source": [
    "gt = [ \"C\", \"NC\", \"C\", \"C\", \"C\", \"NC\", \"NC\", \"NC\", \"NC\", \"C\", \"NC\",\n",
    "\"NC\", \"C\", \"C\", \"NC\", \"NC\", \"NC\" ]\n",
    "pred = [ \"NC\", \"NC\", \"NC\", \"NC\", \"C\", \"NC\", \"NC\", \"C\", \"NC\", \"NC\", \"C\",\n",
    "\"C\", \"NC\", \"NC\", \"NC\", \"C\", \"NC\" ]\n",
    "\n",
    "vals = CreateConfusionMatrix(gt, pred, \"gt\", \"pred\", True)\n",
    "print(vals)"
   ]
  },
  {
   "cell_type": "code",
   "execution_count": 58,
   "metadata": {},
   "outputs": [],
   "source": [
    "def CalcAcc(cm, nDp=2):\n",
    "    et =  cm[\"tp\"] + cm[\"tn\"]\n",
    "    ef =  cm[\"fp\"] + cm[\"fn\"]\n",
    "    e =  et + ef\n",
    "    if nDp > 0:\n",
    "        acc = round((100 / e) * et, nDp)\n",
    "    else:\n",
    "        acc = int((100 / e) * et)\n",
    "\n",
    "    return acc"
   ]
  },
  {
   "cell_type": "code",
   "execution_count": 59,
   "metadata": {},
   "outputs": [
    {
     "name": "stdout",
     "output_type": "stream",
     "text": [
      "41%\n"
     ]
    }
   ],
   "source": [
    "print(str(CalcAcc(vals,-1)) + \"%\")"
   ]
  },
  {
   "cell_type": "code",
   "execution_count": null,
   "metadata": {},
   "outputs": [],
   "source": []
  }
 ],
 "metadata": {
  "kernelspec": {
   "display_name": "Python 3",
   "language": "python",
   "name": "python3"
  },
  "language_info": {
   "codemirror_mode": {
    "name": "ipython",
    "version": 3
   },
   "file_extension": ".py",
   "mimetype": "text/x-python",
   "name": "python",
   "nbconvert_exporter": "python",
   "pygments_lexer": "ipython3",
   "version": "3.7.0"
  }
 },
 "nbformat": 4,
 "nbformat_minor": 2
}
