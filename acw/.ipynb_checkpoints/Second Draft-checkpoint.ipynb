{
 "cells": [
  {
   "cell_type": "markdown",
   "metadata": {},
   "source": [
    "<br></br>\n",
    "# Data Mining and Decision Systems ACW\n",
    "<br></br>\n",
    "#### Student number: 201601628\n",
    "<br>\n",
    "<hr>"
   ]
  },
  {
   "cell_type": "markdown",
   "metadata": {},
   "source": [
    "<a id=\"0\"></a>\n",
    "## Contents\n",
    "<br>\n",
    "<div style=\"line-height:2;\">\n",
    "<div style=\"line-height:2.5;\"><a href=\"#4\">....<h3 style=\"display: inline\"> 0. Notebook Initialisation</h3></a></div>\n",
    "<div style=\"line-height:2.5;\"><a href=\"#1\">....<h3 style=\"display: inline\"> 1. Methodology</h3></a></div>\n",
    "<div><a href=\"#11\">........<h4 style=\"display: inline\"> 1.1. CRISP DM</h4></a></div>\n",
    "<div><a href=\"#111\">............<h5 style=\"display: inline\"> 1.1.1. Business Understanding</h5></a></div>\n",
    "<div><a href=\"#112\">............<h5 style=\"display: inline\"> 1.1.2. Data Understanding</h5></a></div>\n",
    "<div><a href=\"#113\">............<h5 style=\"display: inline\"> 1.1.3. Data Preperation</h5></a></div>\n",
    "<div><a href=\"#114\">............<h5 style=\"display: inline\"> 1.1.4. Modeling</h5></a></div>\n",
    "<div><a href=\"#115\">............<h5 style=\"display: inline\"> 1.1.5. Evaluation</h5></a></div>\n",
    "<div style=\"line-height:2.5;\"><a href=\"#116\">............<h5 style=\"display: inline\"> 1.1.6. Deployment</h5></a></div>\n",
    "<div style=\"line-height:2.5;\"><a href=\"#2\">....<h3 style=\"display: inline\">2. Results</h3></a></div>\n",
    "<div style=\"line-height:2.5;\"><a href=\"#3\">....<h3 style=\"display: inline\">3. Evaluation & Discussion</h3></a></div>\n",
    "</div>\n",
    "<br>\n",
    "<hr>"
   ]
  },
  {
   "cell_type": "markdown",
   "metadata": {},
   "source": [
    "<a id=\"4\"></a>\n",
    "## 0. Notebook Initialisation"
   ]
  },
  {
   "cell_type": "code",
   "execution_count": 1,
   "metadata": {},
   "outputs": [],
   "source": [
    "## Import all libraries for use in notebook.\n",
    "import matplotlib.pyplot as plt\n",
    "import seaborn as sns\n",
    "import sklearn as skl\n",
    "import pandas as pd\n",
    "import numpy as np\n",
    "\n",
    "from sklearn import model_selection, linear_model\n",
    "from sklearn.metrics import mean_absolute_error as mae, mean_squared_error as mse\n",
    "from sklearn.preprocessing import MinMaxScaler\n",
    "\n",
    "%matplotlib inline"
   ]
  },
  {
   "cell_type": "code",
   "execution_count": 2,
   "metadata": {},
   "outputs": [
    {
     "data": {
      "text/html": [
       "<div>\n",
       "<style scoped>\n",
       "    .dataframe tbody tr th:only-of-type {\n",
       "        vertical-align: middle;\n",
       "    }\n",
       "\n",
       "    .dataframe tbody tr th {\n",
       "        vertical-align: top;\n",
       "    }\n",
       "\n",
       "    .dataframe thead th {\n",
       "        text-align: right;\n",
       "    }\n",
       "</style>\n",
       "<table border=\"1\" class=\"dataframe\">\n",
       "  <thead>\n",
       "    <tr style=\"text-align: right;\">\n",
       "      <th></th>\n",
       "      <th>random</th>\n",
       "      <th>id</th>\n",
       "      <th>indication</th>\n",
       "      <th>diabetes</th>\n",
       "      <th>ihd</th>\n",
       "      <th>hypertension</th>\n",
       "      <th>arrhythmia</th>\n",
       "      <th>history</th>\n",
       "      <th>ipsi</th>\n",
       "      <th>contra</th>\n",
       "      <th>label</th>\n",
       "    </tr>\n",
       "  </thead>\n",
       "  <tbody>\n",
       "    <tr>\n",
       "      <th>0</th>\n",
       "      <td>0.602437</td>\n",
       "      <td>218242</td>\n",
       "      <td>A-F</td>\n",
       "      <td>no</td>\n",
       "      <td>no</td>\n",
       "      <td>yes</td>\n",
       "      <td>no</td>\n",
       "      <td>no</td>\n",
       "      <td>78.0</td>\n",
       "      <td>20</td>\n",
       "      <td>NoRisk</td>\n",
       "    </tr>\n",
       "    <tr>\n",
       "      <th>1</th>\n",
       "      <td>0.602437</td>\n",
       "      <td>159284</td>\n",
       "      <td>TIA</td>\n",
       "      <td>no</td>\n",
       "      <td>no</td>\n",
       "      <td>no</td>\n",
       "      <td>no</td>\n",
       "      <td>no</td>\n",
       "      <td>70.0</td>\n",
       "      <td>60</td>\n",
       "      <td>NoRisk</td>\n",
       "    </tr>\n",
       "    <tr>\n",
       "      <th>2</th>\n",
       "      <td>0.602437</td>\n",
       "      <td>106066</td>\n",
       "      <td>A-F</td>\n",
       "      <td>no</td>\n",
       "      <td>yes</td>\n",
       "      <td>yes</td>\n",
       "      <td>no</td>\n",
       "      <td>no</td>\n",
       "      <td>95.0</td>\n",
       "      <td>40</td>\n",
       "      <td>Risk</td>\n",
       "    </tr>\n",
       "    <tr>\n",
       "      <th>3</th>\n",
       "      <td>0.128157</td>\n",
       "      <td>229592</td>\n",
       "      <td>TIA</td>\n",
       "      <td>no</td>\n",
       "      <td>no</td>\n",
       "      <td>yes</td>\n",
       "      <td>no</td>\n",
       "      <td>no</td>\n",
       "      <td>90.0</td>\n",
       "      <td>85</td>\n",
       "      <td>Risk</td>\n",
       "    </tr>\n",
       "    <tr>\n",
       "      <th>4</th>\n",
       "      <td>0.676862</td>\n",
       "      <td>245829</td>\n",
       "      <td>CVA</td>\n",
       "      <td>no</td>\n",
       "      <td>no</td>\n",
       "      <td>no</td>\n",
       "      <td>no</td>\n",
       "      <td>no</td>\n",
       "      <td>70.0</td>\n",
       "      <td>20</td>\n",
       "      <td>NoRisk</td>\n",
       "    </tr>\n",
       "    <tr>\n",
       "      <th>...</th>\n",
       "      <td>...</td>\n",
       "      <td>...</td>\n",
       "      <td>...</td>\n",
       "      <td>...</td>\n",
       "      <td>...</td>\n",
       "      <td>...</td>\n",
       "      <td>...</td>\n",
       "      <td>...</td>\n",
       "      <td>...</td>\n",
       "      <td>...</td>\n",
       "      <td>...</td>\n",
       "    </tr>\n",
       "    <tr>\n",
       "      <th>1515</th>\n",
       "      <td>0.391440</td>\n",
       "      <td>93406</td>\n",
       "      <td>A-F</td>\n",
       "      <td>no</td>\n",
       "      <td>yes</td>\n",
       "      <td>no</td>\n",
       "      <td>no</td>\n",
       "      <td>no</td>\n",
       "      <td>76.0</td>\n",
       "      <td>60</td>\n",
       "      <td>NoRisk</td>\n",
       "    </tr>\n",
       "    <tr>\n",
       "      <th>1516</th>\n",
       "      <td>0.253504</td>\n",
       "      <td>121814</td>\n",
       "      <td>A-F</td>\n",
       "      <td>no</td>\n",
       "      <td>no</td>\n",
       "      <td>yes</td>\n",
       "      <td>yes</td>\n",
       "      <td>no</td>\n",
       "      <td>90.0</td>\n",
       "      <td>75</td>\n",
       "      <td>Risk</td>\n",
       "    </tr>\n",
       "    <tr>\n",
       "      <th>1517</th>\n",
       "      <td>0.620373</td>\n",
       "      <td>101754</td>\n",
       "      <td>TIA</td>\n",
       "      <td>no</td>\n",
       "      <td>no</td>\n",
       "      <td>yes</td>\n",
       "      <td>no</td>\n",
       "      <td>no</td>\n",
       "      <td>75.0</td>\n",
       "      <td>20</td>\n",
       "      <td>NoRisk</td>\n",
       "    </tr>\n",
       "    <tr>\n",
       "      <th>1518</th>\n",
       "      <td>0.639342</td>\n",
       "      <td>263836</td>\n",
       "      <td>A-F</td>\n",
       "      <td>no</td>\n",
       "      <td>yes</td>\n",
       "      <td>no</td>\n",
       "      <td>no</td>\n",
       "      <td>no</td>\n",
       "      <td>70.0</td>\n",
       "      <td>45</td>\n",
       "      <td>NoRisk</td>\n",
       "    </tr>\n",
       "    <tr>\n",
       "      <th>1519</th>\n",
       "      <td>0.634922</td>\n",
       "      <td>254941</td>\n",
       "      <td>CVA</td>\n",
       "      <td>no</td>\n",
       "      <td>no</td>\n",
       "      <td>no</td>\n",
       "      <td>no</td>\n",
       "      <td>no</td>\n",
       "      <td>60.0</td>\n",
       "      <td>20</td>\n",
       "      <td>NoRisk</td>\n",
       "    </tr>\n",
       "  </tbody>\n",
       "</table>\n",
       "<p>1520 rows × 11 columns</p>\n",
       "</div>"
      ],
      "text/plain": [
       "        random      id indication diabetes  ihd hypertension arrhythmia  \\\n",
       "0     0.602437  218242        A-F       no   no          yes         no   \n",
       "1     0.602437  159284        TIA       no   no           no         no   \n",
       "2     0.602437  106066        A-F       no  yes          yes         no   \n",
       "3     0.128157  229592        TIA       no   no          yes         no   \n",
       "4     0.676862  245829        CVA       no   no           no         no   \n",
       "...        ...     ...        ...      ...  ...          ...        ...   \n",
       "1515  0.391440   93406        A-F       no  yes           no         no   \n",
       "1516  0.253504  121814        A-F       no   no          yes        yes   \n",
       "1517  0.620373  101754        TIA       no   no          yes         no   \n",
       "1518  0.639342  263836        A-F       no  yes           no         no   \n",
       "1519  0.634922  254941        CVA       no   no           no         no   \n",
       "\n",
       "     history  ipsi contra   label  \n",
       "0         no  78.0    20   NoRisk  \n",
       "1         no  70.0    60   NoRisk  \n",
       "2         no  95.0     40    Risk  \n",
       "3         no  90.0     85    Risk  \n",
       "4         no  70.0    20   NoRisk  \n",
       "...      ...   ...    ...     ...  \n",
       "1515      no  76.0    60   NoRisk  \n",
       "1516      no  90.0     75    Risk  \n",
       "1517      no  75.0    20   NoRisk  \n",
       "1518      no  70.0    45   NoRisk  \n",
       "1519      no  60.0    20   NoRisk  \n",
       "\n",
       "[1520 rows x 11 columns]"
      ]
     },
     "execution_count": 2,
     "metadata": {},
     "output_type": "execute_result"
    }
   ],
   "source": [
    "# Load the data and get some basic information for future use.\n",
    "path = \"data.csv\" ## Relative path to train/test data.\n",
    "rawData = pd.read_csv(path) ## Will reamin untouched for reference.\n",
    "rawData.columns = [col.lower() for col in rawData.columns] ## Make headers lowercase to avoid some trivial errors.\n",
    "df = rawData.copy() ## Working copy.\n",
    "\n",
    "rawNRows = rawData.shape[0]\n",
    "rawNCols = rawData.shape[1]\n",
    "rawColNames = [colName.lower() for colName in rawData.columns.values] ## Convert colnames to lower for checking to avoid trivial errors.\n",
    "\n",
    "rawData ## Show"
   ]
  },
  {
   "cell_type": "markdown",
   "metadata": {},
   "source": [
    "<a href=\"#0\">[back to top]</a>"
   ]
  },
  {
   "cell_type": "markdown",
   "metadata": {},
   "source": [
    "<a id=\"1\"></a>\n",
    "## 1. Methodology\n",
    "<i style=\"font-size: 14px\">Provide details on the methodology applied towards the data mining analysis undertaken, providing rationale for these steps.\n",
    "\n",
    "This should detail how you went from the raw data provided to the chosen model(s), choice of model, and how this methodology helps address the problem domain.\n",
    "\n",
    "Evidence to support the following of this methodology should be presented, especially any cases which required moving backwards in the process to readdress issues.\n",
    "</i>\n",
    "\n",
    "<a href=\"#0\">[back to top]</a>"
   ]
  },
  {
   "cell_type": "markdown",
   "metadata": {},
   "source": [
    "<a id=\"11\"></a>\n",
    "### &nbsp;&nbsp;&nbsp;&nbsp;1.1. CRISP DM\n",
    "<img src=\"crisp-dm.png\" style=\"max-height:400px\">\n",
    "<a href=\"#0\">[back to top]</a>"
   ]
  },
  {
   "cell_type": "markdown",
   "metadata": {},
   "source": [
    "<a id=\"111\"></a>\n",
    "#### &nbsp;&nbsp;&nbsp;&nbsp;&nbsp;&nbsp;&nbsp;&nbsp;1.1.1. Business Understanding\n",
    "<i style=\"font-size: 14px\">Focuses on understanding the project objectives and requirements from a business perspective, and then converting this knowledge into a data mining problem definition and a preliminary plan.</i>\n",
    "\n",
    "<a href=\"#0\">[back to top]</a>"
   ]
  },
  {
   "cell_type": "markdown",
   "metadata": {},
   "source": [
    "##### &nbsp;&nbsp;&nbsp;&nbsp;&nbsp;&nbsp;&nbsp;&nbsp;&nbsp;&nbsp;&nbsp;&nbsp;Problem Description\n",
    "<div style=\"font-size: 14px\">\n",
    "<p>DOMAIN: Cardio-vascular medicine / healthcare</p>\n",
    "<p>TYPE: Classification</p>\n",
    "<p>INPUTS: Tabulated patient data</p>\n",
    "<p>OUTPUTS:</p>\n",
    "    <ul>\n",
    "        <li>Risk</li>\n",
    "        <li>No Risk</li>\n",
    "    </ul>\n",
    "<p>TERMINOLOGY/NUANCES:</p>\n",
    "    <ul>\n",
    "        <li>Risk</li>\n",
    "        <li>No Risk</li>\n",
    "    </ul>\n",
    "</div>"
   ]
  },
  {
   "cell_type": "markdown",
   "metadata": {},
   "source": [
    "<a id=\"112\"></a>\n",
    "#### &nbsp;&nbsp;&nbsp;&nbsp;&nbsp;&nbsp;&nbsp;&nbsp;1.1.2. Data Understanding\n",
    "<i style=\"font-size: 14px\">Starts with an initial data collection and proceeds with activities in order to get familiar with the data, to identify data quality problems, to discover first insights into the data, or to detect interesting subsets to form hypotheses for hidden information.</i>\n",
    "\n",
    "<a href=\"#0\">[back to top]</a>"
   ]
  },
  {
   "cell_type": "markdown",
   "metadata": {},
   "source": [
    "##### &nbsp;&nbsp;&nbsp;&nbsp;&nbsp;&nbsp;&nbsp;&nbsp;&nbsp;&nbsp;&nbsp;&nbsp;Data Dictionary"
   ]
  },
  {
   "cell_type": "markdown",
   "metadata": {},
   "source": [
    "<table>\n",
    "    <tbody>\n",
    "        <tr>\n",
    "            <td>\n",
    "                <p><strong>Attribute</strong></p>\n",
    "            </td>\n",
    "            <td>\n",
    "                <p><strong>Value Type</strong></p>\n",
    "            </td>\n",
    "            <td>\n",
    "                <p><strong>NumberOfValues</strong></p>\n",
    "            </td>\n",
    "            <td>\n",
    "                <p><strong>Values</strong></p>\n",
    "            </td>\n",
    "            <td>\n",
    "                <p><strong>Comment</strong></p>\n",
    "            </td>\n",
    "            <td>\n",
    "                <p><strong>Non-clinical Description</strong></p>\n",
    "            </td>\n",
    "        </tr>\n",
    "        <tr>\n",
    "            <td>\n",
    "                <p>Random</p>\n",
    "            </td>\n",
    "            <td>\n",
    "                <p>Real</p>\n",
    "            </td>\n",
    "            <td>\n",
    "                <p>Number of Records</p>\n",
    "            </td>\n",
    "            <td>\n",
    "                <p>Unique</p>\n",
    "            </td>\n",
    "            <td>\n",
    "                <p>Real number of help in randomly sorting the data records</p>\n",
    "            </td>\n",
    "            <td>\n",
    "                <p>Real number of&nbsp;help&nbsp;in randomly sorting the data records: Should be unique values.</p>\n",
    "            </td>\n",
    "        </tr>\n",
    "        <tr>\n",
    "            <td>\n",
    "                <p>Id</p>\n",
    "            </td>\n",
    "            <td>\n",
    "                <p>Integer</p>\n",
    "            </td>\n",
    "            <td>\n",
    "                <p>Max of Number of Records</p>\n",
    "            </td>\n",
    "            <td>\n",
    "                <p>Unique to patient</p>\n",
    "            </td>\n",
    "            <td>\n",
    "                <p>Anonymous patient record identifier: Should be unique values unless patient has multiple sessions</p>\n",
    "            </td>\n",
    "            <td>\n",
    "                <p>Anonymous patient record identifier: Should be unique value per patient. Patient can have multiple sessions</p>\n",
    "            </td>\n",
    "        </tr>\n",
    "        <tr>\n",
    "            <td>\n",
    "                <p>Indication</p>\n",
    "            </td>\n",
    "            <td>\n",
    "                <p>Nominal</p>\n",
    "            </td>\n",
    "            <td>\n",
    "                <p>Four</p>\n",
    "            </td>\n",
    "            <td>\n",
    "                <p>{a-f, asx, cva, tia}</p>\n",
    "            </td>\n",
    "            <td>\n",
    "                <p>What type of Cardiovascular event triggered the hospitalisation?</p>\n",
    "            </td>\n",
    "            <td>\n",
    "                <p>What type of Cardiovascular event triggered the hospitalisation?</p><p> a-f :&nbsp;Atrial-Fibrillation</p>\n",
    "                <p>asx&nbsp;:&nbsp;Asymptomatic Stenosis&nbsp;</p><p>cva&nbsp;: Cardiovascular Arrest</p>\n",
    "                <p>tia&nbsp;:&nbsp;Transient Ischemic Attack (\"mini-heart attack\")</p>\n",
    "            </td>\n",
    "        </tr>\n",
    "        <tr>\n",
    "            <td>\n",
    "                <p>Diabetes</p>\n",
    "            </td>\n",
    "            <td>\n",
    "                <p>Nominal</p>\n",
    "            </td>\n",
    "            <td>\n",
    "                <p>Two</p>\n",
    "            </td>\n",
    "            <td>\n",
    "                <p>{no, yes}</p>\n",
    "            </td>\n",
    "            <td>\n",
    "                <p>Does the patient suffer from Diabetes?</p>\n",
    "            </td>\n",
    "            <td>\n",
    "                <p>Does the patient suffer from Diabetes?</p>\n",
    "            </td>\n",
    "        </tr>\n",
    "        <tr>\n",
    "            <td>\n",
    "                <p>IHD</p>\n",
    "            </td>\n",
    "            <td>\n",
    "                <p>Nominal</p>\n",
    "            </td>\n",
    "            <td>\n",
    "                <p>Two</p>\n",
    "            </td>\n",
    "            <td>\n",
    "                <p>{no, yes}</p>\n",
    "            </td>\n",
    "            <td>\n",
    "                <p>Does the patient suffer from Coronary artery disease (CAD), also known as ischemic heart disease (IHD)?</p>\n",
    "            </td>\n",
    "            <td>\n",
    "                <p>Does the patient suffer from Coronary artery disease (CAD), also known as ischemic heart disease (IHD)?</p>\n",
    "            </td>\n",
    "        </tr>\n",
    "        <tr>\n",
    "            <td>\n",
    "                <p>Hypertension</p>\n",
    "            </td>\n",
    "            <td>\n",
    "                <p>Nominal</p>\n",
    "            </td>\n",
    "            <td>\n",
    "                <p>Two</p>\n",
    "            </td>\n",
    "            <td>\n",
    "                <p>{no, yes}</p>\n",
    "            </td>\n",
    "            <td>\n",
    "                <p>Does the patient suffer from Hypertension?</p>\n",
    "            </td>\n",
    "            <td>\n",
    "                <p>Does the patient suffer from Hypertension?</p>\n",
    "            </td>\n",
    "        </tr>\n",
    "        <tr>\n",
    "            <td>\n",
    "                <p>Arrhythmia</p>\n",
    "            </td>\n",
    "            <td>\n",
    "                <p>Nominal</p>\n",
    "            </td>\n",
    "            <td>\n",
    "                <p>Two</p>\n",
    "            </td>\n",
    "            <td>\n",
    "                <p>{no, yes}</p>\n",
    "            </td>\n",
    "            <td>\n",
    "                <p>Does the patient suffer from</p>\n",
    "                <p>Arrhythmia (i.e. erratic heart beat)?</p>\n",
    "            </td>\n",
    "            <td>\n",
    "                <p>Does the patient suffer from Arrhythmia (i.e. erratic&nbsp;heart beat)?</p>\n",
    "            </td>\n",
    "        </tr>\n",
    "        <tr>\n",
    "            <td>\n",
    "                <p>History</p>\n",
    "            </td>\n",
    "            <td>\n",
    "                <p>Nominal</p>\n",
    "            </td>\n",
    "            <td>\n",
    "                <p>Two</p>\n",
    "            </td>\n",
    "            <td>\n",
    "                <p>{no, yes}</p>\n",
    "            </td>\n",
    "            <td>\n",
    "                <p>Has the patient a history of</p>\n",
    "                <p>Cardiovascular interventions?</p>\n",
    "            </td>\n",
    "            <td>\n",
    "                <p>Has the patient a history of Cardiovascular interventions?</p>\n",
    "            </td>\n",
    "        </tr>\n",
    "        <tr>\n",
    "            <td>\n",
    "                <p>IPSI</p>\n",
    "            </td>\n",
    "            <td>\n",
    "                <p>Integer</p>\n",
    "            </td>\n",
    "            <td>\n",
    "                <p>Potentially 101</p>\n",
    "            </td>\n",
    "            <td>\n",
    "                <p>[0, 100]</p>\n",
    "            </td>\n",
    "            <td>\n",
    "                <p>Percentage figure for cerebral ischemic lesions defined as ipsilateral</p>\n",
    "            </td>\n",
    "            <td>\n",
    "                <p>Percentage figure for cerebral ischemic lesions defined as ipsilateral</p>\n",
    "            </td>\n",
    "        </tr>\n",
    "        <tr>\n",
    "            <td>\n",
    "                <p>Contra</p>\n",
    "            </td>\n",
    "            <td>\n",
    "                <p>Integer</p>\n",
    "            </td>\n",
    "            <td>\n",
    "                <p>Potentially 101</p>\n",
    "            </td>\n",
    "            <td>\n",
    "                <p>[0, 100]</p>\n",
    "            </td>\n",
    "            <td>\n",
    "                <p>Percentage figure for contralateral cerebral ischemic lesions</p>\n",
    "            </td>\n",
    "            <td>\n",
    "                <p>Percentage figure for contralateral cerebral ischemic lesions</p>\n",
    "            </td>\n",
    "        </tr>\n",
    "        <tr>\n",
    "            <td>\n",
    "                <p>Label</p>\n",
    "            </td>\n",
    "            <td>\n",
    "                <p>Nominal</p>\n",
    "            </td>\n",
    "            <td>\n",
    "                <p>Two</p>\n",
    "            </td>\n",
    "            <td>\n",
    "                <p>{risk, norisk}</p>\n",
    "            </td>\n",
    "            <td>\n",
    "                <p>Is the patient at risk (Mortality)?</p>\n",
    "            </td>\n",
    "            <td>\n",
    "                <p>Is the patient at risk (Mortality)?</p>\n",
    "            </td>\n",
    "        </tr>\n",
    "    </tbody>"
   ]
  },
  {
   "cell_type": "markdown",
   "metadata": {},
   "source": [
    "&nbsp;&nbsp;&nbsp;&nbsp;&nbsp;&nbsp;&nbsp;&nbsp;&nbsp;&nbsp;&nbsp;&nbsp;\n",
    "<b style=\"color: red;\">NOTE:</b>\n",
    "<p style=\"font-size: 14px\">\"Session\" is also included in the non-clinical description, but not included in the data dictionary.</p>\n",
    "<br>\n",
    "<table>\n",
    "    <tr>\n",
    "        <td>\n",
    "            <p><strong>Attribute</strong></p>\n",
    "        </td>\n",
    "        <td>\n",
    "            <p><strong>Value Type</strong></p>\n",
    "        </td>\n",
    "        <td>\n",
    "            <p><strong>NumberOfValues</strong></p>\n",
    "        </td>\n",
    "        <td>\n",
    "            <p><strong>Values</strong></p>\n",
    "        </td>\n",
    "        <td>\n",
    "            <p><strong>Comment</strong></p>\n",
    "        </td>\n",
    "        <td>\n",
    "            <p><strong>Non-clinical Description</strong></p>\n",
    "        </td>\n",
    "    </tr>\n",
    "    <tr>\n",
    "        <td>\n",
    "            <p>Session</p>\n",
    "        </td>\n",
    "        <td>\n",
    "            <p>Unknown</p>\n",
    "        </td>\n",
    "        <td>\n",
    "            <p>Max Number of Records (assumed)</p>\n",
    "        </td>\n",
    "        <td>\n",
    "            <p>Unique to patient</p>\n",
    "        </td>\n",
    "        <td>\n",
    "            <p>Unknown</p>\n",
    "        </td>\n",
    "        <td>\n",
    "            <p>Anonymous patient session identifier.</p>\n",
    "        </td>\n",
    "    </tr>\n",
    "</table>"
   ]
  },
  {
   "cell_type": "markdown",
   "metadata": {},
   "source": [
    "<p><b>Step 1. </b>Check data for conformity to dictionary.</p>"
   ]
  },
  {
   "cell_type": "markdown",
   "metadata": {},
   "source": [
    "(a) Define a set of rules/assumptions as provided in the dictionary."
   ]
  },
  {
   "cell_type": "code",
   "execution_count": 3,
   "metadata": {},
   "outputs": [],
   "source": [
    "## Note: data type and number of vals can be inferred where vals are given.\n",
    "dataAssumptions = {\n",
    "    \"random\":{ ## Col name.\n",
    "        \"valType\": float, ## Real.\n",
    "        \"nVals\": (rawNRows, rawNRows), # Unique per record.\n",
    "    },  \n",
    "    \"id\":{\n",
    "        \"valType\": int,## Integer.\n",
    "        \"nVals\": (1, rawNRows), ## Unique per patient.\n",
    "    },\n",
    "    \"indication\":{\n",
    "        \"vals\": [\"a-f\",\"asx\",\"cva\",\"tia\"] ## Possible values (except nan).\n",
    "    },\n",
    "    \"diabetes\":{\n",
    "        \"vals\": [\"yes\", \"no\"]\n",
    "    },\n",
    "    \"ihd\":{\n",
    "        \"vals\": [\"yes\", \"no\"]\n",
    "    },\n",
    "    \"hypertension\":{\n",
    "        \"vals\": [\"yes\", \"no\"]\n",
    "    },\n",
    "    \"arrhythmia\":{\n",
    "        \"vals\": [\"yes\", \"no\"]\n",
    "    },\n",
    "    \"history\": {\n",
    "        \"vals\": [\"yes\", \"no\"]\n",
    "    },\n",
    "    \"ipsi\": {\n",
    "        \"vals\": np.arange(0,101)\n",
    "    },\n",
    "    \"contra\": {\n",
    "        \"vals\": np.arange(0,101),\n",
    "    },\n",
    "    \"label\": {\n",
    "        \"vals\": [\"risk\", \"norisk\"]\n",
    "    },\n",
    "    \"session\":{\n",
    "        \"valType\": object, # Unknown.\n",
    "        \"nVals\": (1, rawNRows), ## Unique per patient (assumed).\n",
    "    },\n",
    "}"
   ]
  },
  {
   "cell_type": "markdown",
   "metadata": {},
   "source": [
    "(b) Compare assumptions with actual (raw) data."
   ]
  },
  {
   "cell_type": "code",
   "execution_count": 4,
   "metadata": {},
   "outputs": [
    {
     "name": "stdout",
     "output_type": "stream",
     "text": [
      "The following expected columns are missing from the data:\n",
      "['session']\n"
     ]
    }
   ],
   "source": [
    "## Check for all expected columns exist in the data.\n",
    "missingCols = []\n",
    "for k, v in dataAssumptions.items(): ## k = key, v == value.\n",
    "    if (k not in rawColNames):\n",
    "        missingCols.append(k)\n",
    "if (len(missingCols) > 0):\n",
    "    print(\"The following expected columns are missing from the data:\")\n",
    "    print(missingCols)\n",
    "else:\n",
    "    print(\"No concerns.\")"
   ]
  },
  {
   "cell_type": "code",
   "execution_count": 5,
   "metadata": {},
   "outputs": [
    {
     "name": "stdout",
     "output_type": "stream",
     "text": [
      "The following columns have unexpected values:\n",
      "('Col: random', 'Expected: (1520, 1520)', 'Actual: 1222')\n",
      "('Col: indication', 'Expected: (1, 4)', 'Actual: 5')\n",
      "('Col: label', 'Expected: (1, 2)', 'Actual: 3')\n"
     ]
    }
   ],
   "source": [
    "## Check number of values of each column against expected.\n",
    "concerns = []\n",
    "for k, v in dataAssumptions.items(): ## k = key, v == value.\n",
    "    if (k in rawColNames):\n",
    "        actualNValues = len(rawData[k].dropna().unique()) ## Ignore nan values for this check.\n",
    "        try:\n",
    "            expectedNValues = (1, len(v[\"vals\"])) \n",
    "        except:\n",
    "            expectedNValues = v[\"nVals\"]\n",
    "\n",
    "        if (not(actualNValues >= expectedNValues[0]) or not(actualNValues <= expectedNValues[1])):            \n",
    "            concerns.append((\"Col: \" + str(k), \"Expected: \" + str(expectedNValues), \"Actual: \" + str(actualNValues)))\n",
    "        \n",
    "if (len(concerns) > 0):\n",
    "    print(\"The following columns have unexpected values:\")\n",
    "    for concern in concerns:\n",
    "        print(concern)\n",
    "else:\n",
    "    print(\"No concerns.\")"
   ]
  },
  {
   "cell_type": "code",
   "execution_count": 6,
   "metadata": {},
   "outputs": [
    {
     "name": "stdout",
     "output_type": "stream",
     "text": [
      "No concerns.\n"
     ]
    }
   ],
   "source": [
    "## Check number of values of each column against expected.\n",
    "concerns = []\n",
    "for k, v in dataAssumptions.items(): ## k = key, v == value.\n",
    "    if (k in rawColNames):\n",
    "        actualValues = rawData[k].dropna().unique().sort() ## Ignore nan values for this check.\n",
    "        try:\n",
    "            expectedValues = v[\"vals\"].sort()\n",
    "            if ((set(actualValues) != set(expectedValues))):\n",
    "                concerns.append((\"Col: \" + str(k), \"Expected: \" + str(set(expectedValues)), \"Actual: \" + str(set(actualValues))))\n",
    "        except:\n",
    "            continue ## Is not categorical column.\n",
    "            \n",
    "if (len(concerns) > 0):\n",
    "    print(\"The following columns have unexpected values:\")\n",
    "    for concern in concerns:\n",
    "        print(concern)\n",
    "else:\n",
    "    print(\"No concerns.\")"
   ]
  },
  {
   "cell_type": "markdown",
   "metadata": {},
   "source": [
    "<p><b>Step 2. </b>Inspect concerns.</p>"
   ]
  },
  {
   "cell_type": "markdown",
   "metadata": {},
   "source": [
    "<b style=\"color:red\">The following expected columns are missing from the data:</b>\n",
    "\n",
    "['session']"
   ]
  },
  {
   "cell_type": "markdown",
   "metadata": {},
   "source": [
    "The SESSION column should include data about patient visits.\n",
    "1. Check if it's merged with a key i.e. RANDOM or ID (otherwise, presumably meaningless columns)"
   ]
  },
  {
   "cell_type": "code",
   "execution_count": 7,
   "metadata": {},
   "outputs": [
    {
     "data": {
      "text/plain": [
       "count    1520.000000\n",
       "mean        0.509545\n",
       "std         0.284006\n",
       "min         0.000295\n",
       "25%         0.268531\n",
       "50%         0.517616\n",
       "75%         0.754724\n",
       "max         0.999448\n",
       "Name: random, dtype: float64"
      ]
     },
     "execution_count": 7,
     "metadata": {},
     "output_type": "execute_result"
    }
   ],
   "source": [
    "randomKeys = rawData[\"random\"]\n",
    "randomKeys.describe()"
   ]
  },
  {
   "cell_type": "code",
   "execution_count": 8,
   "metadata": {},
   "outputs": [
    {
     "data": {
      "text/plain": [
       "count      1520.000000\n",
       "mean     188365.022368\n",
       "std       64355.870242\n",
       "min       78261.000000\n",
       "25%      137130.750000\n",
       "50%      191344.500000\n",
       "75%      244559.500000\n",
       "max      295978.000000\n",
       "Name: id, dtype: float64"
      ]
     },
     "execution_count": 8,
     "metadata": {},
     "output_type": "execute_result"
    }
   ],
   "source": [
    "patientIDs = rawData[\"id\"]\n",
    "patientIDs.describe()"
   ]
  },
  {
   "cell_type": "code",
   "execution_count": 9,
   "metadata": {},
   "outputs": [
    {
     "name": "stdout",
     "output_type": "stream",
     "text": [
      "['A-F' 'TIA' 'CVA' 'ASx' 'Asx' nan]\n",
      "['a-f' 'tia' 'cva' 'asx' 'nan']\n"
     ]
    }
   ],
   "source": [
    "indications = rawData[\"indication\"]\n",
    "indications.describe()\n",
    "print(indications.unique())\n",
    "indications = indications.apply(lambda x: str(x).lower())\n",
    "print(indications.unique())"
   ]
  },
  {
   "cell_type": "code",
   "execution_count": 10,
   "metadata": {},
   "outputs": [],
   "source": [
    "indications = indications.fillna(0)\n",
    "indications = indications.replace({\"indication\": {\"a-f\": 0, \"tia\": 1, \"cva\": 2, \"asx\": 3, \"nan\": -1}})"
   ]
  },
  {
   "cell_type": "code",
   "execution_count": 11,
   "metadata": {},
   "outputs": [
    {
     "data": {
      "text/plain": [
       "<matplotlib.axes._subplots.AxesSubplot at 0x24fab669248>"
      ]
     },
     "execution_count": 11,
     "metadata": {},
     "output_type": "execute_result"
    },
    {
     "data": {
      "image/png": "[encoded data removed]",
      "text/plain": [
       "<Figure size 432x288 with 1 Axes>"
      ]
     },
     "metadata": {
      "needs_background": "light"
     },
     "output_type": "display_data"
    }
   ],
   "source": [
    "sns.distplot(randomKeys)"
   ]
  },
  {
   "cell_type": "markdown",
   "metadata": {},
   "source": [
    "Even distribution implies insignifance/random."
   ]
  },
  {
   "cell_type": "code",
   "execution_count": 12,
   "metadata": {},
   "outputs": [
    {
     "data": {
      "text/plain": [
       "<matplotlib.axes._subplots.AxesSubplot at 0x24fab669388>"
      ]
     },
     "execution_count": 12,
     "metadata": {},
     "output_type": "execute_result"
    },
    {
     "data": {
      "image/png": "[encoded data removed]",
      "text/plain": [
       "<Figure size 432x288 with 1 Axes>"
      ]
     },
     "metadata": {
      "needs_background": "light"
     },
     "output_type": "display_data"
    }
   ],
   "source": [
    "sns.distplot(patientIDs)"
   ]
  },
  {
   "cell_type": "markdown",
   "metadata": {},
   "source": [
    "Another stab at looking for indication of session or visit date..."
   ]
  },
  {
   "cell_type": "code",
   "execution_count": 13,
   "metadata": {},
   "outputs": [
    {
     "data": {
      "text/plain": [
       "12.0"
      ]
     },
     "execution_count": 13,
     "metadata": {},
     "output_type": "execute_result"
    }
   ],
   "source": [
    "# normPatId = (patientIDs - patientIDs.mean()) / patientIDs.std()## z-normalise\n",
    "normPatId = ((patientIDs - patientIDs.min()) / (patientIDs.min() - patientIDs.max()) + 1) * 12## z-normalise\n",
    "normPatId.max()"
   ]
  },
  {
   "cell_type": "code",
   "execution_count": 14,
   "metadata": {},
   "outputs": [
    {
     "data": {
      "text/plain": [
       "0.0"
      ]
     },
     "execution_count": 14,
     "metadata": {},
     "output_type": "execute_result"
    }
   ],
   "source": [
    "normPatId.min()"
   ]
  },
  {
   "cell_type": "code",
   "execution_count": 15,
   "metadata": {},
   "outputs": [
    {
     "data": {
      "text/plain": [
       "<matplotlib.axes._subplots.AxesSubplot at 0x24faf75e508>"
      ]
     },
     "execution_count": 15,
     "metadata": {},
     "output_type": "execute_result"
    },
    {
     "data": {
      "image/png": "[encoded data removed]",
      "text/plain": [
       "<Figure size 432x288 with 1 Axes>"
      ]
     },
     "metadata": {
      "needs_background": "light"
     },
     "output_type": "display_data"
    }
   ],
   "source": [
    "sns.distplot(normPatId)"
   ]
  },
  {
   "cell_type": "markdown",
   "metadata": {},
   "source": [
    "Strange that patient IDs are modal. May hide more information.\n",
    "\n",
    "Converting the data in excel, which is often used for data input, doesn't show any obvious patterns - especially since dates stretch hundreds of years into the future."
   ]
  },
  {
   "cell_type": "code",
   "execution_count": 16,
   "metadata": {},
   "outputs": [
    {
     "data": {
      "text/plain": [
       "count      1520.000000\n",
       "mean     188365.022368\n",
       "std       64355.870242\n",
       "min       78261.000000\n",
       "25%      137130.750000\n",
       "50%      191344.500000\n",
       "75%      244559.500000\n",
       "max      295978.000000\n",
       "Name: id, dtype: float64"
      ]
     },
     "execution_count": 16,
     "metadata": {},
     "output_type": "execute_result"
    }
   ],
   "source": [
    "rawData[\"id\"].describe()"
   ]
  },
  {
   "cell_type": "markdown",
   "metadata": {},
   "source": [
    "Difficult to determine anything from the scale of these numbers."
   ]
  },
  {
   "cell_type": "code",
   "execution_count": 17,
   "metadata": {},
   "outputs": [
    {
     "data": {
      "text/plain": [
       "count    1520.000000\n",
       "mean        0.494279\n",
       "std         0.295594\n",
       "min         0.000000\n",
       "25%         0.236171\n",
       "50%         0.480594\n",
       "75%         0.729604\n",
       "max         1.000000\n",
       "Name: id, dtype: float64"
      ]
     },
     "execution_count": 17,
     "metadata": {},
     "output_type": "execute_result"
    },
    {
     "data": {
      "image/png": "[encoded data removed]",
      "text/plain": [
       "<Figure size 432x288 with 1 Axes>"
      ]
     },
     "metadata": {
      "needs_background": "light"
     },
     "output_type": "display_data"
    }
   ],
   "source": [
    "normalisedIds = (rawData[\"id\"] - rawData[\"id\"].min()) / (rawData[\"id\"].min()-rawData[\"id\"].max()) + 1\n",
    "sns.distplot(normalisedIds)\n",
    "normalisedIds.describe()"
   ]
  },
  {
   "cell_type": "markdown",
   "metadata": {},
   "source": [
    "Min max normalisation between 0-1 to represent the spread more simply (via 25th, 50th and 75th percentiles) indicates mostly random."
   ]
  },
  {
   "cell_type": "markdown",
   "metadata": {},
   "source": [
    "<b style=\"color:red\">The following columns have unexpected values:</b>\n",
    "\n",
    "('Col: random', 'Expected: (1520, 1520)', 'Actual: 1222')\n",
    "\n",
    "('Col: indication', 'Expected: (1, 4)', 'Actual: 5')\n",
    "\n",
    "('Col: label', 'Expected: (1, 2)', 'Actual: 3')"
   ]
  },
  {
   "cell_type": "code",
   "execution_count": 18,
   "metadata": {},
   "outputs": [
    {
     "data": {
      "text/plain": [
       "1       0.602437\n",
       "2       0.602437\n",
       "10      0.678157\n",
       "15      0.025356\n",
       "19      0.065821\n",
       "          ...   \n",
       "1457    0.754513\n",
       "1459    0.735681\n",
       "1467    0.889219\n",
       "1511    0.174637\n",
       "1515    0.391440\n",
       "Name: random, Length: 298, dtype: float64"
      ]
     },
     "execution_count": 18,
     "metadata": {},
     "output_type": "execute_result"
    }
   ],
   "source": [
    "## RANDOM Column\n",
    "## Check for duplicates despite dictionary saying should be unique per record.\n",
    "randomKeys[randomKeys.duplicated()]"
   ]
  },
  {
   "cell_type": "markdown",
   "metadata": {},
   "source": [
    "There are 298 duplicate records, which is equal to the difference between the number of unique values and expected.\n",
    "\n",
    "To check there is no significance, check if duplicated random codes are associated with same patient ids."
   ]
  },
  {
   "cell_type": "code",
   "execution_count": 19,
   "metadata": {},
   "outputs": [
    {
     "data": {
      "text/html": [
       "<div>\n",
       "<style scoped>\n",
       "    .dataframe tbody tr th:only-of-type {\n",
       "        vertical-align: middle;\n",
       "    }\n",
       "\n",
       "    .dataframe tbody tr th {\n",
       "        vertical-align: top;\n",
       "    }\n",
       "\n",
       "    .dataframe thead th {\n",
       "        text-align: right;\n",
       "    }\n",
       "</style>\n",
       "<table border=\"1\" class=\"dataframe\">\n",
       "  <thead>\n",
       "    <tr style=\"text-align: right;\">\n",
       "      <th></th>\n",
       "      <th>random</th>\n",
       "      <th>id</th>\n",
       "    </tr>\n",
       "  </thead>\n",
       "  <tbody>\n",
       "    <tr>\n",
       "      <th>1</th>\n",
       "      <td>0.602437</td>\n",
       "      <td>159284</td>\n",
       "    </tr>\n",
       "    <tr>\n",
       "      <th>2</th>\n",
       "      <td>0.602437</td>\n",
       "      <td>106066</td>\n",
       "    </tr>\n",
       "    <tr>\n",
       "      <th>10</th>\n",
       "      <td>0.678157</td>\n",
       "      <td>174588</td>\n",
       "    </tr>\n",
       "    <tr>\n",
       "      <th>15</th>\n",
       "      <td>0.025356</td>\n",
       "      <td>219417</td>\n",
       "    </tr>\n",
       "    <tr>\n",
       "      <th>19</th>\n",
       "      <td>0.065821</td>\n",
       "      <td>101248</td>\n",
       "    </tr>\n",
       "    <tr>\n",
       "      <th>...</th>\n",
       "      <td>...</td>\n",
       "      <td>...</td>\n",
       "    </tr>\n",
       "    <tr>\n",
       "      <th>1457</th>\n",
       "      <td>0.754513</td>\n",
       "      <td>293073</td>\n",
       "    </tr>\n",
       "    <tr>\n",
       "      <th>1459</th>\n",
       "      <td>0.735681</td>\n",
       "      <td>151183</td>\n",
       "    </tr>\n",
       "    <tr>\n",
       "      <th>1467</th>\n",
       "      <td>0.889219</td>\n",
       "      <td>202550</td>\n",
       "    </tr>\n",
       "    <tr>\n",
       "      <th>1511</th>\n",
       "      <td>0.174637</td>\n",
       "      <td>284804</td>\n",
       "    </tr>\n",
       "    <tr>\n",
       "      <th>1515</th>\n",
       "      <td>0.391440</td>\n",
       "      <td>93406</td>\n",
       "    </tr>\n",
       "  </tbody>\n",
       "</table>\n",
       "<p>298 rows × 2 columns</p>\n",
       "</div>"
      ],
      "text/plain": [
       "        random      id\n",
       "1     0.602437  159284\n",
       "2     0.602437  106066\n",
       "10    0.678157  174588\n",
       "15    0.025356  219417\n",
       "19    0.065821  101248\n",
       "...        ...     ...\n",
       "1457  0.754513  293073\n",
       "1459  0.735681  151183\n",
       "1467  0.889219  202550\n",
       "1511  0.174637  284804\n",
       "1515  0.391440   93406\n",
       "\n",
       "[298 rows x 2 columns]"
      ]
     },
     "execution_count": 19,
     "metadata": {},
     "output_type": "execute_result"
    }
   ],
   "source": [
    "nonRandIds = rawData[[\"random\", \"id\"]]\n",
    "nonRandIds = nonRandIds[nonRandIds[\"random\"].duplicated()]\n",
    "nonRandIds"
   ]
  },
  {
   "cell_type": "markdown",
   "metadata": {},
   "source": [
    "<b style=\"color:red\">Assume erroneous random column</b>"
   ]
  },
  {
   "cell_type": "code",
   "execution_count": 20,
   "metadata": {},
   "outputs": [
    {
     "data": {
      "text/plain": [
       "array(['A-F', 'TIA', 'CVA', 'ASx', 'Asx', nan], dtype=object)"
      ]
     },
     "execution_count": 20,
     "metadata": {},
     "output_type": "execute_result"
    }
   ],
   "source": [
    "## INDICATION Column\n",
    "ind = rawData[\"indication\"]\n",
    "ind.unique()"
   ]
  },
  {
   "cell_type": "markdown",
   "metadata": {},
   "source": [
    "ASx and Asx present but presumably mean the same thing. Check count for each to indentify potential input error."
   ]
  },
  {
   "cell_type": "code",
   "execution_count": 21,
   "metadata": {},
   "outputs": [
    {
     "name": "stdout",
     "output_type": "stream",
     "text": [
      "nASx: 186\n",
      "nAsx: 32\n"
     ]
    }
   ],
   "source": [
    "nASx = len(ind[ind ==\"ASx\"])\n",
    "nAsx = len(ind[ind ==\"Asx\"])\n",
    "print(\"nASx: \" + str(nASx))\n",
    "print(\"nAsx: \" + str(nAsx))"
   ]
  },
  {
   "cell_type": "markdown",
   "metadata": {},
   "source": [
    "This is a concern because 32 isn't a one-off input error; it may be a seperate class.\n",
    "\n",
    "<b style=\"color:red\">Going by the given data dictionary, will assume it is the same class.</b>"
   ]
  },
  {
   "cell_type": "code",
   "execution_count": 22,
   "metadata": {},
   "outputs": [
    {
     "data": {
      "text/plain": [
       "array(['NoRisk', 'Risk', 'Unknown', nan], dtype=object)"
      ]
     },
     "execution_count": 22,
     "metadata": {},
     "output_type": "execute_result"
    }
   ],
   "source": [
    "## LABEL Column\n",
    "labels = rawData[\"label\"]\n",
    "labels.unique()"
   ]
  },
  {
   "cell_type": "markdown",
   "metadata": {},
   "source": [
    "Unknown is an additional class not mentioned in the given information.\n",
    "\n",
    "Check count to assess impact it may have:"
   ]
  },
  {
   "cell_type": "code",
   "execution_count": 23,
   "metadata": {},
   "outputs": [
    {
     "data": {
      "text/plain": [
       "2"
      ]
     },
     "execution_count": 23,
     "metadata": {},
     "output_type": "execute_result"
    }
   ],
   "source": [
    "len(labels[labels == \"Unknown\"])"
   ]
  },
  {
   "cell_type": "markdown",
   "metadata": {},
   "source": [
    "2 records with unknown classifications is insignificatant that it will probably be beneficial to remove them. However, it means any models will be unable to \"sit on the fence\", which is possibly a valid conclusion.\n",
    "\n",
    "<b style=\"color: red\">Remove unknown classifications.</b>"
   ]
  },
  {
   "cell_type": "markdown",
   "metadata": {},
   "source": [
    "<p><b>Step 3. </b>Check for nan values.</p>"
   ]
  },
  {
   "cell_type": "code",
   "execution_count": 24,
   "metadata": {},
   "outputs": [
    {
     "name": "stdout",
     "output_type": "stream",
     "text": [
      "<class 'pandas.core.frame.DataFrame'>\n",
      "RangeIndex: 1520 entries, 0 to 1519\n",
      "Data columns (total 11 columns):\n",
      "random          1520 non-null float64\n",
      "id              1520 non-null int64\n",
      "indication      1517 non-null object\n",
      "diabetes        1518 non-null object\n",
      "ihd             1520 non-null object\n",
      "hypertension    1517 non-null object\n",
      "arrhythmia      1520 non-null object\n",
      "history         1518 non-null object\n",
      "ipsi            1516 non-null float64\n",
      "contra          1520 non-null object\n",
      "label           1517 non-null object\n",
      "dtypes: float64(2), int64(1), object(8)\n",
      "memory usage: 130.8+ KB\n"
     ]
    }
   ],
   "source": [
    "rawData.info()"
   ]
  },
  {
   "cell_type": "code",
   "execution_count": 25,
   "metadata": {},
   "outputs": [
    {
     "name": "stdout",
     "output_type": "stream",
     "text": [
      "The following columns have n nan  values\n",
      "Column: INDICATION = 3\n",
      "Column: DIABETES = 2\n",
      "Column: HYPERTENSION = 3\n",
      "Column: HISTORY = 2\n",
      "Column: IPSI = 4\n",
      "Column: LABEL = 3\n"
     ]
    }
   ],
   "source": [
    "### NAN values\n",
    "### Assess impact of nan values throughout data\n",
    "colsWNa = rawData.columns[rawData.isna().any()].tolist()\n",
    "print(\"The following columns have n nan  values\")\n",
    "for col in colsWNa:\n",
    "    print(\"Column: \" + col.upper() + \" = \" + str(len(rawData[rawData[col].isna() == True])))"
   ]
  },
  {
   "cell_type": "code",
   "execution_count": 26,
   "metadata": {},
   "outputs": [
    {
     "name": "stdout",
     "output_type": "stream",
     "text": [
      "1520 records before removing nan records.\n",
      "1503 records after removing nan records.\n",
      "17 records removed.\n"
     ]
    }
   ],
   "source": [
    "nRecsBefore = rawData.shape[0]\n",
    "tempDf = rawData.copy()\n",
    "print(str(nRecsBefore) + \" records before removing nan records.\")\n",
    "tempDf.dropna(inplace=True)\n",
    "nRecsAfter = tempDf.shape[0]\n",
    "print(str(nRecsAfter) + \" records after removing nan records.\")\n",
    "nRemoved = nRecsBefore - nRecsAfter\n",
    "print(str(nRemoved) + \" records removed.\")"
   ]
  },
  {
   "cell_type": "markdown",
   "metadata": {},
   "source": [
    "Depending on feature selection, nans affect a total of 17 records, which is ~1.1% of the all the data. It's could do more harm than good to impute these, but that can be explored."
   ]
  },
  {
   "cell_type": "markdown",
   "metadata": {},
   "source": [
    "<p><b>Step 4. </b>Check for duplicated records.</p>"
   ]
  },
  {
   "cell_type": "code",
   "execution_count": 27,
   "metadata": {},
   "outputs": [
    {
     "name": "stdout",
     "output_type": "stream",
     "text": [
      "0 duplicate records found.\n"
     ]
    }
   ],
   "source": [
    "duped = rawData[rawData.duplicated() == True]\n",
    "nDupes = duped.shape[0]\n",
    "print(str(nDupes) + \" duplicate records found.\")\n",
    "if (nDupes > 0):\n",
    "    print(dupes)"
   ]
  },
  {
   "cell_type": "markdown",
   "metadata": {},
   "source": [
    "<b>Step 5.</b> Check distributions (except for random and id which, will be dropped)."
   ]
  },
  {
   "cell_type": "code",
   "execution_count": 28,
   "metadata": {},
   "outputs": [
    {
     "data": {
      "text/plain": [
       "array(['20 ', '60 ', '40', '85', '95', '100', '50', '50 ', '30 ', '40 ',\n",
       "       '80', '25 ', '75 ', '10 ', '70 ', '15 ', '75', '35 ', '30', '80 ',\n",
       "       '55 ', '100 ', '90', '85 ', '79', '45 ', '65 ', '90 ', '62', '53',\n",
       "       '51 ', '70', '60', '35', '55', '16 ', '73 ', ' ', '10', '20', '65'],\n",
       "      dtype=object)"
      ]
     },
     "execution_count": 28,
     "metadata": {},
     "output_type": "execute_result"
    }
   ],
   "source": [
    "rawData[\"contra\"].unique()"
   ]
  },
  {
   "cell_type": "markdown",
   "metadata": {},
   "source": [
    "Strangely, contra is formatted as a string, and there are empty strings that will become nan values when converted to numbers."
   ]
  },
  {
   "cell_type": "code",
   "execution_count": 29,
   "metadata": {},
   "outputs": [
    {
     "data": {
      "text/plain": [
       "array([ 20.,  60.,  40.,  85.,  95., 100.,  50.,  30.,  80.,  25.,  75.,\n",
       "        10.,  70.,  15.,  35.,  55.,  90.,  79.,  45.,  65.,  62.,  53.,\n",
       "        51.,  16.,  73.,  nan])"
      ]
     },
     "execution_count": 29,
     "metadata": {},
     "output_type": "execute_result"
    }
   ],
   "source": [
    "contraCol = pd.to_numeric(rawData[\"contra\"], errors=\"coerce\") ## https://stackoverflow.com/questions/15891038/change-data-type-of-columns-in-pandas // Set \" \" to nan: https://pandas.pydata.org/pandas-docs/stable/reference/api/pandas.to_numeric.html\n",
    "contraCol.unique()"
   ]
  },
  {
   "cell_type": "code",
   "execution_count": 30,
   "metadata": {},
   "outputs": [
    {
     "data": {
      "image/png": "[encoded data removed]",
      "text/plain": [
       "<Figure size 432x288 with 1 Axes>"
      ]
     },
     "metadata": {
      "needs_background": "light"
     },
     "output_type": "display_data"
    }
   ],
   "source": [
    "# ## Don't check binary cols i.e. yes/no etc.\n",
    "# cols = [\"ipsi\", \"contra\", ] \n",
    "# for col in cols:\n",
    "sns.distplot(rawData[\"ipsi\"].dropna())\n",
    "plt.show()\n",
    "\n",
    "## HERE I discovered contra is formatted as a string and went back to change it.\n",
    "\n"
   ]
  },
  {
   "cell_type": "code",
   "execution_count": 31,
   "metadata": {},
   "outputs": [
    {
     "data": {
      "text/plain": [
       "<matplotlib.axes._subplots.AxesSubplot at 0x24faf957408>"
      ]
     },
     "execution_count": 31,
     "metadata": {},
     "output_type": "execute_result"
    },
    {
     "data": {
      "image/png": "[encoded data removed]",
      "text/plain": [
       "<Figure size 432x288 with 1 Axes>"
      ]
     },
     "metadata": {
      "needs_background": "light"
     },
     "output_type": "display_data"
    }
   ],
   "source": [
    "sns.distplot(contraCol.dropna())"
   ]
  },
  {
   "cell_type": "markdown",
   "metadata": {},
   "source": [
    "Encode categorical cols to check their distribution. \n",
    "\n",
    "With the exception of label having \"unknown\"; they are all binary (yes:no, risk:norisk), so encode as binary, where:\n",
    "\n",
    "yes:no == 1:0\n",
    "\n",
    "risk:norisk == 1:0"
   ]
  },
  {
   "cell_type": "code",
   "execution_count": 32,
   "metadata": {},
   "outputs": [
    {
     "name": "stdout",
     "output_type": "stream",
     "text": [
      "    indication diabetes  ihd hypertension arrhythmia history  ipsi contra  \\\n",
      "475        ASx       no  yes          yes         no      no  70.0     55   \n",
      "523        CVA       no   no          yes        yes      no  95.0    100   \n",
      "\n",
      "       label  \n",
      "475  Unknown  \n",
      "523  Unknown  \n",
      "\n",
      "<class 'pandas.core.frame.DataFrame'>\n",
      "Int64Index: 1501 entries, 0 to 1519\n",
      "Data columns (total 9 columns):\n",
      "indication      1501 non-null object\n",
      "diabetes        1501 non-null object\n",
      "ihd             1501 non-null object\n",
      "hypertension    1501 non-null object\n",
      "arrhythmia      1501 non-null object\n",
      "history         1501 non-null object\n",
      "ipsi            1501 non-null float64\n",
      "contra          1501 non-null object\n",
      "label           1501 non-null object\n",
      "dtypes: float64(1), object(8)\n",
      "memory usage: 117.3+ KB\n"
     ]
    }
   ],
   "source": [
    "dfTemp = rawData.copy()\n",
    "dfTemp = dfTemp.drop(columns=[\"random\", \"id\"])\n",
    "print(str(dfTemp[dfTemp[\"label\"] == \"Unknown\"]) + \"\\n\")\n",
    "dfTemp = dfTemp.drop(index=[475, 523])\n",
    "dfTemp = dfTemp.dropna()\n",
    "dfTemp.info()"
   ]
  },
  {
   "cell_type": "code",
   "execution_count": 44,
   "metadata": {},
   "outputs": [
    {
     "data": {
      "text/html": [
       "<div>\n",
       "<style scoped>\n",
       "    .dataframe tbody tr th:only-of-type {\n",
       "        vertical-align: middle;\n",
       "    }\n",
       "\n",
       "    .dataframe tbody tr th {\n",
       "        vertical-align: top;\n",
       "    }\n",
       "\n",
       "    .dataframe thead th {\n",
       "        text-align: right;\n",
       "    }\n",
       "</style>\n",
       "<table border=\"1\" class=\"dataframe\">\n",
       "  <thead>\n",
       "    <tr style=\"text-align: right;\">\n",
       "      <th></th>\n",
       "      <th>indication</th>\n",
       "      <th>diabetes</th>\n",
       "      <th>ihd</th>\n",
       "      <th>hypertension</th>\n",
       "      <th>arrhythmia</th>\n",
       "      <th>history</th>\n",
       "      <th>ipsi</th>\n",
       "      <th>contra</th>\n",
       "      <th>label</th>\n",
       "    </tr>\n",
       "  </thead>\n",
       "  <tbody>\n",
       "    <tr>\n",
       "      <th>0</th>\n",
       "      <td>A-F</td>\n",
       "      <td>0</td>\n",
       "      <td>0</td>\n",
       "      <td>1</td>\n",
       "      <td>0</td>\n",
       "      <td>0</td>\n",
       "      <td>78.0</td>\n",
       "      <td>20</td>\n",
       "      <td>0</td>\n",
       "    </tr>\n",
       "    <tr>\n",
       "      <th>1</th>\n",
       "      <td>TIA</td>\n",
       "      <td>0</td>\n",
       "      <td>0</td>\n",
       "      <td>0</td>\n",
       "      <td>0</td>\n",
       "      <td>0</td>\n",
       "      <td>70.0</td>\n",
       "      <td>60</td>\n",
       "      <td>0</td>\n",
       "    </tr>\n",
       "    <tr>\n",
       "      <th>4</th>\n",
       "      <td>CVA</td>\n",
       "      <td>0</td>\n",
       "      <td>0</td>\n",
       "      <td>0</td>\n",
       "      <td>0</td>\n",
       "      <td>0</td>\n",
       "      <td>70.0</td>\n",
       "      <td>20</td>\n",
       "      <td>0</td>\n",
       "    </tr>\n",
       "    <tr>\n",
       "      <th>7</th>\n",
       "      <td>CVA</td>\n",
       "      <td>0</td>\n",
       "      <td>0</td>\n",
       "      <td>0</td>\n",
       "      <td>0</td>\n",
       "      <td>0</td>\n",
       "      <td>75.0</td>\n",
       "      <td>60</td>\n",
       "      <td>0</td>\n",
       "    </tr>\n",
       "    <tr>\n",
       "      <th>8</th>\n",
       "      <td>TIA</td>\n",
       "      <td>0</td>\n",
       "      <td>0</td>\n",
       "      <td>1</td>\n",
       "      <td>0</td>\n",
       "      <td>0</td>\n",
       "      <td>81.0</td>\n",
       "      <td>20</td>\n",
       "      <td>0</td>\n",
       "    </tr>\n",
       "    <tr>\n",
       "      <th>...</th>\n",
       "      <td>...</td>\n",
       "      <td>...</td>\n",
       "      <td>...</td>\n",
       "      <td>...</td>\n",
       "      <td>...</td>\n",
       "      <td>...</td>\n",
       "      <td>...</td>\n",
       "      <td>...</td>\n",
       "      <td>...</td>\n",
       "    </tr>\n",
       "    <tr>\n",
       "      <th>1512</th>\n",
       "      <td>TIA</td>\n",
       "      <td>0</td>\n",
       "      <td>0</td>\n",
       "      <td>1</td>\n",
       "      <td>0</td>\n",
       "      <td>0</td>\n",
       "      <td>80.0</td>\n",
       "      <td>20</td>\n",
       "      <td>0</td>\n",
       "    </tr>\n",
       "    <tr>\n",
       "      <th>1515</th>\n",
       "      <td>A-F</td>\n",
       "      <td>0</td>\n",
       "      <td>1</td>\n",
       "      <td>0</td>\n",
       "      <td>0</td>\n",
       "      <td>0</td>\n",
       "      <td>76.0</td>\n",
       "      <td>60</td>\n",
       "      <td>0</td>\n",
       "    </tr>\n",
       "    <tr>\n",
       "      <th>1517</th>\n",
       "      <td>TIA</td>\n",
       "      <td>0</td>\n",
       "      <td>0</td>\n",
       "      <td>1</td>\n",
       "      <td>0</td>\n",
       "      <td>0</td>\n",
       "      <td>75.0</td>\n",
       "      <td>20</td>\n",
       "      <td>0</td>\n",
       "    </tr>\n",
       "    <tr>\n",
       "      <th>1518</th>\n",
       "      <td>A-F</td>\n",
       "      <td>0</td>\n",
       "      <td>1</td>\n",
       "      <td>0</td>\n",
       "      <td>0</td>\n",
       "      <td>0</td>\n",
       "      <td>70.0</td>\n",
       "      <td>45</td>\n",
       "      <td>0</td>\n",
       "    </tr>\n",
       "    <tr>\n",
       "      <th>1519</th>\n",
       "      <td>CVA</td>\n",
       "      <td>0</td>\n",
       "      <td>0</td>\n",
       "      <td>0</td>\n",
       "      <td>0</td>\n",
       "      <td>0</td>\n",
       "      <td>60.0</td>\n",
       "      <td>20</td>\n",
       "      <td>0</td>\n",
       "    </tr>\n",
       "  </tbody>\n",
       "</table>\n",
       "<p>1001 rows × 9 columns</p>\n",
       "</div>"
      ],
      "text/plain": [
       "     indication  diabetes  ihd  hypertension  arrhythmia  history  ipsi  \\\n",
       "0           A-F         0    0             1           0        0  78.0   \n",
       "1           TIA         0    0             0           0        0  70.0   \n",
       "4           CVA         0    0             0           0        0  70.0   \n",
       "7           CVA         0    0             0           0        0  75.0   \n",
       "8           TIA         0    0             1           0        0  81.0   \n",
       "...         ...       ...  ...           ...         ...      ...   ...   \n",
       "1512        TIA         0    0             1           0        0  80.0   \n",
       "1515        A-F         0    1             0           0        0  76.0   \n",
       "1517        TIA         0    0             1           0        0  75.0   \n",
       "1518        A-F         0    1             0           0        0  70.0   \n",
       "1519        CVA         0    0             0           0        0  60.0   \n",
       "\n",
       "     contra  label  \n",
       "0       20       0  \n",
       "1       60       0  \n",
       "4       20       0  \n",
       "7       60       0  \n",
       "8       20       0  \n",
       "...     ...    ...  \n",
       "1512    20       0  \n",
       "1515    60       0  \n",
       "1517    20       0  \n",
       "1518    45       0  \n",
       "1519    20       0  \n",
       "\n",
       "[1001 rows x 9 columns]"
      ]
     },
     "execution_count": 44,
     "metadata": {},
     "output_type": "execute_result"
    }
   ],
   "source": [
    "for col in dfTemp.columns.values:\n",
    "    dfTemp = dfTemp.replace([\"yes\", \"Risk\", \"no\", \"NoRisk\"], [1, 1, 0, 0]) ## https://pandas.pydata.org/pandas-docs/stable/reference/api/pandas.DataFrame.replace.html\n",
    "    \n",
    "dfTemp\n",
    "dfTemp[dfTemp[\"label\"] == 0]\n",
    "# labels=dfTemp[\"label\"]\n",
    "# len(labels[labels == 0]) + len(labels[labels == 1])"
   ]
  },
  {
   "cell_type": "code",
   "execution_count": 55,
   "metadata": {},
   "outputs": [
    {
     "data": {
      "image/png": "[encoded data removed]",
      "text/plain": [
       "<Figure size 432x288 with 1 Axes>"
      ]
     },
     "metadata": {
      "needs_background": "light"
     },
     "output_type": "display_data"
    },
    {
     "data": {
      "image/png": "[encoded data removed]",
      "text/plain": [
       "<Figure size 432x288 with 1 Axes>"
      ]
     },
     "metadata": {
      "needs_background": "light"
     },
     "output_type": "display_data"
    },
    {
     "data": {
      "image/png": "[encoded data removed]",
      "text/plain": [
       "<Figure size 432x288 with 1 Axes>"
      ]
     },
     "metadata": {
      "needs_background": "light"
     },
     "output_type": "display_data"
    },
    {
     "data": {
      "image/png": "[encoded data removed]",
      "text/plain": [
       "<Figure size 432x288 with 1 Axes>"
      ]
     },
     "metadata": {
      "needs_background": "light"
     },
     "output_type": "display_data"
    },
    {
     "data": {
      "image/png": "[encoded data removed]",
      "text/plain": [
       "<Figure size 432x288 with 1 Axes>"
      ]
     },
     "metadata": {
      "needs_background": "light"
     },
     "output_type": "display_data"
    },
    {
     "data": {
      "image/png": "[encoded data removed]",
      "text/plain": [
       "<Figure size 432x288 with 1 Axes>"
      ]
     },
     "metadata": {
      "needs_background": "light"
     },
     "output_type": "display_data"
    },
    {
     "data": {
      "image/png": "[encoded data removed]",
      "text/plain": [
       "<Figure size 432x288 with 1 Axes>"
      ]
     },
     "metadata": {
      "needs_background": "light"
     },
     "output_type": "display_data"
    }
   ],
   "source": [
    "for col in dfTemp.columns.values:\n",
    "    try:\n",
    "        sns.distplot(dfTemp[col])\n",
    "        plt.show()\n",
    "    except:\n",
    "        print(col + \" column failed to plot.\")\n",
    "        pass"
   ]
  },
  {
   "cell_type": "code",
   "execution_count": null,
   "metadata": {},
   "outputs": [],
   "source": [
    "for col in dfTemp.columns.values:\n",
    "    try:\n",
    "        if (col != \"label\"):\n",
    "            sns.violinplit(dfTemp[col],)\n",
    "            plt.show()\n",
    "    except:\n",
    "        print(col + \" column failed to plot.\")\n",
    "        pass"
   ]
  },
  {
   "cell_type": "markdown",
   "metadata": {},
   "source": [
    "<p><b>Step 6. </b>Look at columns individually to spot any distinct outliers or other concerns.</p>"
   ]
  },
  {
   "cell_type": "markdown",
   "metadata": {},
   "source": [
    "<a id=\"113\"></a>\n",
    "#### &nbsp;&nbsp;&nbsp;&nbsp;&nbsp;&nbsp;&nbsp;&nbsp;1.1.3. Data Preperation\n",
    "<i style=\"font-size: 14px\">The data preparation phase covers all activities to construct the final dataset from the initial raw data.</i>\n",
    "\n",
    "<a href=\"#0\">[back to top]</a>"
   ]
  },
  {
   "cell_type": "markdown",
   "metadata": {},
   "source": [
    "<a id=\"114\"></a>\n",
    "#### &nbsp;&nbsp;&nbsp;&nbsp;&nbsp;&nbsp;&nbsp;&nbsp;1.1.4. Modeling\n",
    "<i style=\"font-size: 14px\">Modeling techniques are selected and applied.  Since some techniques like neural nets have specific requirements regarding the form of the data, there can be a loop back here to data prep.</i>\n",
    "\n",
    "<a href=\"#0\">[back to top]</a>"
   ]
  },
  {
   "cell_type": "code",
   "execution_count": null,
   "metadata": {},
   "outputs": [],
   "source": []
  },
  {
   "cell_type": "code",
   "execution_count": null,
   "metadata": {},
   "outputs": [],
   "source": []
  },
  {
   "cell_type": "markdown",
   "metadata": {},
   "source": [
    "<a id=\"115\"></a>\n",
    "#### &nbsp;&nbsp;&nbsp;&nbsp;&nbsp;&nbsp;&nbsp;&nbsp;1.1.5. Evaluation\n",
    "<i style=\"font-size: 14px\">Once one or more models have been built that appear to have high quality based on whichever loss functions have been selected, these need to be tested to ensure they generalize against unseen data and that all key business issues have been sufficiently considered.  The end result is the selection of the champion model(s).</i>\n",
    "\n",
    "<a href=\"#0\">[back to top]</a>"
   ]
  },
  {
   "cell_type": "code",
   "execution_count": null,
   "metadata": {},
   "outputs": [],
   "source": []
  },
  {
   "cell_type": "markdown",
   "metadata": {},
   "source": [
    "<a id=\"116\"></a>\n",
    "#### &nbsp;&nbsp;&nbsp;&nbsp;&nbsp;&nbsp;&nbsp;&nbsp;1.1.5. Deployment\n",
    "<i style=\"font-size: 14px\">Generally this will mean deploying a code representation of the model into an operating system to score or categorize new unseen data as it arises and to create a mechanism for the use of that new information in the solution of the original business problem.  Importantly, the code representation must also include all the data prep steps leading up to modeling so that the model will treat new raw data in the same manner as during model development.\n",
    "\n",
    "You may well observe that there is nothing special here and that’s largely true.  From today’s data science perspective this seems like common sense.  This is exactly the point.  The common process is so logical that it has become embedded into all our education, training, and practice.</i>\n",
    "\n",
    "<a href=\"#0\">[back to top]</a>"
   ]
  },
  {
   "cell_type": "code",
   "execution_count": null,
   "metadata": {},
   "outputs": [],
   "source": []
  },
  {
   "cell_type": "markdown",
   "metadata": {},
   "source": [
    "<a id=\"2\"></a>\n",
    "## &nbsp;&nbsp;&nbsp;&nbsp;2. Results\n",
    "<i style=\"font-size: 14px\">Results should include tables showing model performance with appropriately selected metrics. No rationale should be provided for this section - simply results of evaluative processes.\n",
    "\n",
    "If using modified variants of the dataset, these should be clearly identified in the tables with appropriate naming. The justification and description of modification is not for this section.\n",
    "\n",
    "Additional figures may be used as appropriate, in support of discussion points in the Evaluation & Discussion section, or as evidence for methodology following above.</i>\n",
    "\n",
    "<a href=\"#0\">[back to top]</a>"
   ]
  },
  {
   "cell_type": "code",
   "execution_count": null,
   "metadata": {},
   "outputs": [],
   "source": []
  },
  {
   "cell_type": "markdown",
   "metadata": {},
   "source": [
    "<a id=\"3\"></a>\n",
    "## &nbsp;&nbsp;&nbsp;&nbsp;3. Evaluation & Discussion\n",
    "<i style=\"font-size: 14px\">Evaluation methodology used for generating the results provided in the previous section. How were these evaluated? Why was this selected? What metrics were used and why?\n",
    "\n",
    "Discussion of the results should be presented with appropriate evidence and rationale. E.g Which is the best model, and why? \n",
    "\n",
    "Consider each stage in the methodology, and reflect on any improvements which could have been made. Could any techniques have been used which may have improved performance? Why?</i>\n",
    "\n",
    "<a href=\"#0\">[back to top]</a>"
   ]
  },
  {
   "cell_type": "code",
   "execution_count": null,
   "metadata": {},
   "outputs": [],
   "source": []
  }
 ],
 "metadata": {
  "kernelspec": {
   "display_name": "Python 3",
   "language": "python",
   "name": "python3"
  },
  "language_info": {
   "codemirror_mode": {
    "name": "ipython",
    "version": 3
   },
   "file_extension": ".py",
   "mimetype": "text/x-python",
   "name": "python",
   "nbconvert_exporter": "python",
   "pygments_lexer": "ipython3",
   "version": "3.7.5"
  }
 },
 "nbformat": 4,
 "nbformat_minor": 2
}
