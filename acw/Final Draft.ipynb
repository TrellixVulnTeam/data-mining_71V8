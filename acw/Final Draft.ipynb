{
 "cells": [
  {
   "cell_type": "markdown",
   "metadata": {},
   "source": [
    "<br></br>\n",
    "# Data Mining and Decision Systems ACW\n",
    "<br></br>\n",
    "#### Student number: 201601628\n",
    "<br>\n",
    "<hr>"
   ]
  },
  {
   "cell_type": "markdown",
   "metadata": {},
   "source": [
    "<a id=\"contents\"></a>\n",
    "<h1>Contents</h1>\n",
    "<hr>\n",
    "<div style=\"line-height: 2.5;\">\n",
    "<div><a href=\"#0\"><h2 style=\"display: inline\">.... 0. Notebook Initialisation</h2></a></div>\n",
    "<div><a href=\"#01\">........ <h3 style=\"display: inline\">0.1. Package Imports</h3></a></div>\n",
    "<div><a href=\"#02\">........ <h3 style=\"display: inline\">0.2. Data Loading</h3></a></div>\n",
    "<div><a href=\"#03\">........ <h3 style=\"display: inline\">0.3. Misc</h3></a></div>\n",
    "<p></p>\n",
    "<div><a href=\"#1\"><h2 style=\"display: inline\">.... 1. CRISP DM</h2></a></div>\n",
    "<div><a href=\"#11\">........ <h3 style=\"display: inline\">1.1. Business Understanding</h3></a></div>\n",
    "<!--  -->\n",
    "<div><a href=\"#12\">........ <h3 style=\"display: inline\">1.2. Data Understanding</h3></a></div>\n",
    "<div><a href=\"#121\">............ <h4 style=\"display: inline\">1.2.1. Data Dictionary</h4></a></div>\n",
    "<div><a href=\"#122\">............ <h4 style=\"display: inline\">1.2.2. Data Correctness</h4></a></div>\n",
    "<div><a href=\"#1221\">................ <h5 style=\"display: inline\">1.2.2.1. Checking for Missing Data</h5></a></div>\n",
    "<div><a href=\"#1222\">................ <h5 style=\"display: inline\">1.2.2.2. Checking for Duplicated Data</h5></a></div>\n",
    "<div><a href=\"#1223\">................ <h5 style=\"display: inline\">1.2.2.3. Checking for Corrupt Data</h5></a></div>\n",
    "<div><a href=\"#1224\">................ <h5 style=\"display: inline\">1.2.2.4. Evaluation of Concerns</h5></a></div>\n",
    "<div><a href=\"#123\">............ <h4 style=\"display: inline\">1.2.3. Data Distribution</h4></a></div>\n",
    "<div><a href=\"#124\">............ <h4 style=\"display: inline\">1.2.4. Feature Inspection</h4></a></div>\n",
    "<div><a href=\"#125\">............ <h4 style=\"display: inline\">1.2.5. Evaluation of Understanding</h4></a></div>\n",
    "<div><a href=\"#126\">............ <h4 style=\"display: inline\">1.2.6. Actions</h4></a></div>\n",
    "<!--  -->\n",
    "<div style=\"line-height:2.5;\"><a href=\"#13\">........ <h3 style=\"display: inline\">1.3. Data Preparation</h3></a></div>\n",
    "<div><a href=\"#131\">............ <h4 style=\"display: inline\">1.3.1. Cleaning</h4></a></div>\n",
    "<div><a href=\"#132\">............ <h4 style=\"display: inline\">1.3.2. Transformation</h4></a></div>\n",
    "<div><a href=\"#133\">............ <h4 style=\"display: inline\">1.3.3. Stratification (TTS)</h4></a></div>\n",
    "<!--  -->\n",
    "<div style=\"line-height:2.5;\"><a href=\"#14\">........ <h3 style=\"display: inline\">1.4. Modeling</h3></a></div>\n",
    "<div><a href=\"#141\">............ <h4 style=\"display: inline\">1.4.1. Baseline Models (all features)</h4></a></div>\n",
    "<div><a href=\"#142\">............ <h4 style=\"display: inline\">1.4.2. Baseline Models (selected features)</h4></a></div>\n",
    "<div><a href=\"#143\">............ <h4 style=\"display: inline\">1.4.3. Model Selection</h4></a></div>\n",
    "<div><a href=\"#144\">............ <h4 style=\"display: inline\">1.4.4. Hyperparemeter Tuning</h4></a></div>\n",
    "<!--  -->\n",
    "<div style=\"line-height:2.5;\"><a href=\"#15\">........ <h3 style=\"display: inline\">1.5. Evaluation</h3></a></div>\n",
    "<!--  -->\n",
    "<div style=\"line-height:2.5;\"><a href=\"#16\">........ <h3 style=\"display: inline\">1.6. (Theoretical) Deployment</h3></a></div>\n",
    "</div>\n",
    "\n",
    "<!--  Data Understanding\n",
    "Data dictionary\n",
    "\tData assumptions\n",
    "\t\tData conformity\n",
    "\t\t\tCols exist\n",
    "\t\t\tNumber of categories\n",
    "\t\t\tCategory correctness\n",
    "\t\t\tData types\n",
    "\t\t\n",
    "\t\tMissing data\n",
    "\n",
    "\t\tDuplicated data\n",
    "\t\t\tDuplicated records\n",
    "\t\t\tDuplicated attributes\n",
    "\n",
    "\t\tData distribution/balance/outliers\t\t\n",
    "\n",
    "\t\tData correlations and feature inspection\n",
    "\t\t\tUnivariate\n",
    "\t\t\tCovariate (with label)\n",
    "\t\t\tMultivariate (with label)\n",
    "\t\t\tApriori\n",
    "\n",
    "\t\tInspect and understand concerns\n",
    "\n",
    "\t\tActions\n",
    "\t\t\n",
    "Data prep\n",
    "\tClean according to understanding\n",
    "\tNormalise and Encode\n",
    "\tTTS\n",
    "\t\tCompare with raw data\n",
    "\n",
    "\n",
    "Modeling\n",
    "\tBaseline model all features & all models\n",
    "\t\tkfold\n",
    "\t\tmulti-linear?\n",
    "\t\tdtree\n",
    "\t\tdnn\t\n",
    "\tBaseline model selected features\n",
    "\t\tkfold\n",
    "\t\tdtree\n",
    "\t\tdnn\n",
    "\tSelect best model\n",
    "\t\ttune hyperparams\n",
    "\n",
    "Data prep2 \n",
    "\timpute missing data\n",
    "\tbetter or worse performance ? -->"
   ]
  },
  {
   "cell_type": "markdown",
   "metadata": {},
   "source": [
    "<a id=\"0\"></a>\n",
    "<h2>0. Notebook Initialisation</h2>"
   ]
  },
  {
   "cell_type": "markdown",
   "metadata": {},
   "source": [
    "<a id=\"01\"></a>\n",
    "<h3>0.1. Package Imports</h3>"
   ]
  },
  {
   "cell_type": "code",
   "execution_count": 1,
   "metadata": {},
   "outputs": [],
   "source": [
    "## Import all libraries for use in notebook.\n",
    "import matplotlib.pyplot as plt\n",
    "import seaborn as sns\n",
    "import sklearn as skl\n",
    "import pandas as pd\n",
    "import numpy as np\n",
    "\n",
    "from sklearn import model_selection, linear_model\n",
    "from sklearn.metrics import mean_absolute_error as mae, mean_squared_error as mse\n",
    "from sklearn.preprocessing import MinMaxScaler\n",
    "\n",
    "from pandas.api.types import is_string_dtype\n",
    "from pandas.api.types import is_numeric_dtype\n",
    "from collections import defaultdict ## Used in automating and collating data discrepancies.\n",
    "import datetime ## Used to check the correct data is being loaded after the deadline.\n",
    "\n",
    "%matplotlib inline"
   ]
  },
  {
   "cell_type": "markdown",
   "metadata": {},
   "source": [
    "<a href=\"#contents\">[back to top]</a>"
   ]
  },
  {
   "cell_type": "markdown",
   "metadata": {},
   "source": [
    "<a id=\"02\"></a>\n",
    "<h3>0.2. Data Loading</h3>"
   ]
  },
  {
   "cell_type": "code",
   "execution_count": 2,
   "metadata": {},
   "outputs": [
    {
     "data": {
      "text/html": [
       "<div>\n",
       "<style scoped>\n",
       "    .dataframe tbody tr th:only-of-type {\n",
       "        vertical-align: middle;\n",
       "    }\n",
       "\n",
       "    .dataframe tbody tr th {\n",
       "        vertical-align: top;\n",
       "    }\n",
       "\n",
       "    .dataframe thead th {\n",
       "        text-align: right;\n",
       "    }\n",
       "</style>\n",
       "<table border=\"1\" class=\"dataframe\">\n",
       "  <thead>\n",
       "    <tr style=\"text-align: right;\">\n",
       "      <th></th>\n",
       "      <th>random</th>\n",
       "      <th>id</th>\n",
       "      <th>indication</th>\n",
       "      <th>diabetes</th>\n",
       "      <th>ihd</th>\n",
       "      <th>hypertension</th>\n",
       "      <th>arrhythmia</th>\n",
       "      <th>history</th>\n",
       "      <th>ipsi</th>\n",
       "      <th>contra</th>\n",
       "      <th>label</th>\n",
       "    </tr>\n",
       "  </thead>\n",
       "  <tbody>\n",
       "    <tr>\n",
       "      <th>0</th>\n",
       "      <td>0.602437</td>\n",
       "      <td>218242</td>\n",
       "      <td>A-F</td>\n",
       "      <td>no</td>\n",
       "      <td>no</td>\n",
       "      <td>yes</td>\n",
       "      <td>no</td>\n",
       "      <td>no</td>\n",
       "      <td>78.0</td>\n",
       "      <td>20</td>\n",
       "      <td>NoRisk</td>\n",
       "    </tr>\n",
       "    <tr>\n",
       "      <th>1</th>\n",
       "      <td>0.602437</td>\n",
       "      <td>159284</td>\n",
       "      <td>TIA</td>\n",
       "      <td>no</td>\n",
       "      <td>no</td>\n",
       "      <td>no</td>\n",
       "      <td>no</td>\n",
       "      <td>no</td>\n",
       "      <td>70.0</td>\n",
       "      <td>60</td>\n",
       "      <td>NoRisk</td>\n",
       "    </tr>\n",
       "    <tr>\n",
       "      <th>2</th>\n",
       "      <td>0.602437</td>\n",
       "      <td>106066</td>\n",
       "      <td>A-F</td>\n",
       "      <td>no</td>\n",
       "      <td>yes</td>\n",
       "      <td>yes</td>\n",
       "      <td>no</td>\n",
       "      <td>no</td>\n",
       "      <td>95.0</td>\n",
       "      <td>40</td>\n",
       "      <td>Risk</td>\n",
       "    </tr>\n",
       "    <tr>\n",
       "      <th>3</th>\n",
       "      <td>0.128157</td>\n",
       "      <td>229592</td>\n",
       "      <td>TIA</td>\n",
       "      <td>no</td>\n",
       "      <td>no</td>\n",
       "      <td>yes</td>\n",
       "      <td>no</td>\n",
       "      <td>no</td>\n",
       "      <td>90.0</td>\n",
       "      <td>85</td>\n",
       "      <td>Risk</td>\n",
       "    </tr>\n",
       "    <tr>\n",
       "      <th>4</th>\n",
       "      <td>0.676862</td>\n",
       "      <td>245829</td>\n",
       "      <td>CVA</td>\n",
       "      <td>no</td>\n",
       "      <td>no</td>\n",
       "      <td>no</td>\n",
       "      <td>no</td>\n",
       "      <td>no</td>\n",
       "      <td>70.0</td>\n",
       "      <td>20</td>\n",
       "      <td>NoRisk</td>\n",
       "    </tr>\n",
       "    <tr>\n",
       "      <th>...</th>\n",
       "      <td>...</td>\n",
       "      <td>...</td>\n",
       "      <td>...</td>\n",
       "      <td>...</td>\n",
       "      <td>...</td>\n",
       "      <td>...</td>\n",
       "      <td>...</td>\n",
       "      <td>...</td>\n",
       "      <td>...</td>\n",
       "      <td>...</td>\n",
       "      <td>...</td>\n",
       "    </tr>\n",
       "    <tr>\n",
       "      <th>1515</th>\n",
       "      <td>0.391440</td>\n",
       "      <td>93406</td>\n",
       "      <td>A-F</td>\n",
       "      <td>no</td>\n",
       "      <td>yes</td>\n",
       "      <td>no</td>\n",
       "      <td>no</td>\n",
       "      <td>no</td>\n",
       "      <td>76.0</td>\n",
       "      <td>60</td>\n",
       "      <td>NoRisk</td>\n",
       "    </tr>\n",
       "    <tr>\n",
       "      <th>1516</th>\n",
       "      <td>0.253504</td>\n",
       "      <td>121814</td>\n",
       "      <td>A-F</td>\n",
       "      <td>no</td>\n",
       "      <td>no</td>\n",
       "      <td>yes</td>\n",
       "      <td>yes</td>\n",
       "      <td>no</td>\n",
       "      <td>90.0</td>\n",
       "      <td>75</td>\n",
       "      <td>Risk</td>\n",
       "    </tr>\n",
       "    <tr>\n",
       "      <th>1517</th>\n",
       "      <td>0.620373</td>\n",
       "      <td>101754</td>\n",
       "      <td>TIA</td>\n",
       "      <td>no</td>\n",
       "      <td>no</td>\n",
       "      <td>yes</td>\n",
       "      <td>no</td>\n",
       "      <td>no</td>\n",
       "      <td>75.0</td>\n",
       "      <td>20</td>\n",
       "      <td>NoRisk</td>\n",
       "    </tr>\n",
       "    <tr>\n",
       "      <th>1518</th>\n",
       "      <td>0.639342</td>\n",
       "      <td>263836</td>\n",
       "      <td>A-F</td>\n",
       "      <td>no</td>\n",
       "      <td>yes</td>\n",
       "      <td>no</td>\n",
       "      <td>no</td>\n",
       "      <td>no</td>\n",
       "      <td>70.0</td>\n",
       "      <td>45</td>\n",
       "      <td>NoRisk</td>\n",
       "    </tr>\n",
       "    <tr>\n",
       "      <th>1519</th>\n",
       "      <td>0.634922</td>\n",
       "      <td>254941</td>\n",
       "      <td>CVA</td>\n",
       "      <td>no</td>\n",
       "      <td>no</td>\n",
       "      <td>no</td>\n",
       "      <td>no</td>\n",
       "      <td>no</td>\n",
       "      <td>60.0</td>\n",
       "      <td>20</td>\n",
       "      <td>NoRisk</td>\n",
       "    </tr>\n",
       "  </tbody>\n",
       "</table>\n",
       "<p>1520 rows × 11 columns</p>\n",
       "</div>"
      ],
      "text/plain": [
       "        random      id indication diabetes  ihd hypertension arrhythmia  \\\n",
       "0     0.602437  218242        A-F       no   no          yes         no   \n",
       "1     0.602437  159284        TIA       no   no           no         no   \n",
       "2     0.602437  106066        A-F       no  yes          yes         no   \n",
       "3     0.128157  229592        TIA       no   no          yes         no   \n",
       "4     0.676862  245829        CVA       no   no           no         no   \n",
       "...        ...     ...        ...      ...  ...          ...        ...   \n",
       "1515  0.391440   93406        A-F       no  yes           no         no   \n",
       "1516  0.253504  121814        A-F       no   no          yes        yes   \n",
       "1517  0.620373  101754        TIA       no   no          yes         no   \n",
       "1518  0.639342  263836        A-F       no  yes           no         no   \n",
       "1519  0.634922  254941        CVA       no   no           no         no   \n",
       "\n",
       "     history  ipsi contra   label  \n",
       "0         no  78.0    20   NoRisk  \n",
       "1         no  70.0    60   NoRisk  \n",
       "2         no  95.0     40    Risk  \n",
       "3         no  90.0     85    Risk  \n",
       "4         no  70.0    20   NoRisk  \n",
       "...      ...   ...    ...     ...  \n",
       "1515      no  76.0    60   NoRisk  \n",
       "1516      no  90.0     75    Risk  \n",
       "1517      no  75.0    20   NoRisk  \n",
       "1518      no  70.0    45   NoRisk  \n",
       "1519      no  60.0    20   NoRisk  \n",
       "\n",
       "[1520 rows x 11 columns]"
      ]
     },
     "execution_count": 2,
     "metadata": {},
     "output_type": "execute_result"
    }
   ],
   "source": [
    "deadline = datetime.date(day=12,month=12, year=2019)\n",
    "path = \"data.csv\" ## Relative path to train/test data.\n",
    "## Failsafe incase I forget to swap in the orginal csv for submission after testing on modified versions.\n",
    "if (deadline < datetime.date.today()):\n",
    "    path = \"data.csv\" ## Relative path to train/test data.\n",
    "    print(\"Forgot to change data input to default acw csv; switched to correct dataset.\")\n",
    "\n",
    "rawData = pd.read_csv(path) ## Will reamin untouched for reference.\n",
    "rawData.columns = [col.lower() for col in rawData.columns] ## Make headers lowercase to avoid some trivial errors.\n",
    "cleanData = rawData.copy()\n",
    "\n",
    "rawData ## Show"
   ]
  },
  {
   "cell_type": "markdown",
   "metadata": {},
   "source": [
    "<a href=\"#contents\">[back to top]</a>"
   ]
  },
  {
   "cell_type": "markdown",
   "metadata": {},
   "source": [
    "<a id=\"03\"></a>\n",
    "<h3>0.3. Misc</h3>\n",
    "Define some variables for easy access to properties of the raw data."
   ]
  },
  {
   "cell_type": "code",
   "execution_count": 3,
   "metadata": {},
   "outputs": [],
   "source": [
    "rawNRows = rawData.shape[0]\n",
    "rawNCols = rawData.shape[1]\n",
    "rawColNames = rawData.columns.values # Often used as an iterator.\n",
    "concerns = defaultdict(list) ## Dict for storing data discrepencies to output at the end of checks.\n",
    "\n",
    "## For pretty printing.\n",
    "## ''' n == number of indents '''\n",
    "def Indent(n=1):\n",
    "    indent = \"    \" * n\n",
    "    return indent"
   ]
  },
  {
   "cell_type": "markdown",
   "metadata": {},
   "source": [
    "<a href=\"#contents\">[back to top]</a>"
   ]
  },
  {
   "cell_type": "markdown",
   "metadata": {},
   "source": [
    "<a id=\"1\"></a>\n",
    "<h2>1. CRISP DM</h2>\n",
    "<img src=\"crisp-dm.png\" style=\"max-height:300px\">\n",
    "<a href=\"#contents\">[back to top]</a>"
   ]
  },
  {
   "cell_type": "markdown",
   "metadata": {},
   "source": [
    "<a id=\"11\"></a>\n",
    "<h3>1.1. Business Understanding</h3>"
   ]
  },
  {
   "cell_type": "markdown",
   "metadata": {},
   "source": [
    "<div style=\"font-size: 14px\">\n",
    "<p>DOMAIN: Cardio-vascular medicine / healthcare</p>\n",
    "<p>PROBLEM TYPE: Classification</p>\n",
    "<p>INPUTS: Tabulated patient data</p>\n",
    "<p>OUTPUTS:</p>\n",
    "    <ul>\n",
    "        <li>Risk</li>\n",
    "        <li>No Risk</li>\n",
    "    </ul>\n",
    "</div>"
   ]
  },
  {
   "cell_type": "markdown",
   "metadata": {},
   "source": [
    "<a href=\"#contents\">[back to top]</a>"
   ]
  },
  {
   "cell_type": "markdown",
   "metadata": {},
   "source": [
    "<a id=\"12\"></a>\n",
    "<h3>1.2. Data Understanding</h3>\n",
    "Inspect a copy (for safety) of the raw data, as-is. "
   ]
  },
  {
   "cell_type": "code",
   "execution_count": 4,
   "metadata": {},
   "outputs": [],
   "source": [
    "df = rawData.copy()"
   ]
  },
  {
   "cell_type": "markdown",
   "metadata": {},
   "source": [
    "<a id=\"121\"></a>\n",
    "<h4>1.2.1. Data Dictionary</h4>"
   ]
  },
  {
   "cell_type": "markdown",
   "metadata": {},
   "source": [
    "<table>\n",
    "    <tbody>\n",
    "        <tr>\n",
    "            <td>\n",
    "                <p><strong>Attribute</strong></p>\n",
    "            </td>\n",
    "            <td>\n",
    "                <p><strong>Value Type</strong></p>\n",
    "            </td>\n",
    "            <td>\n",
    "                <p><strong>NumberOfValues</strong></p>\n",
    "            </td>\n",
    "            <td>\n",
    "                <p><strong>Values</strong></p>\n",
    "            </td>\n",
    "            <td>\n",
    "                <p><strong>Comment</strong></p>\n",
    "            </td>\n",
    "            <td>\n",
    "                <p><strong>Non-clinical Description</strong></p>\n",
    "            </td>\n",
    "        </tr>\n",
    "        <tr>\n",
    "            <td>\n",
    "                <p>Random</p>\n",
    "            </td>\n",
    "            <td>\n",
    "                <p>Real</p>\n",
    "            </td>\n",
    "            <td>\n",
    "                <p>Number of Records</p>\n",
    "            </td>\n",
    "            <td>\n",
    "                <p>Unique</p>\n",
    "            </td>\n",
    "            <td>\n",
    "                <p>Real number of help in randomly sorting the data records</p>\n",
    "            </td>\n",
    "            <td>\n",
    "                <p>Real number of&nbsp;help&nbsp;in randomly sorting the data records: Should be unique values.</p>\n",
    "            </td>\n",
    "        </tr>\n",
    "        <tr>\n",
    "            <td>\n",
    "                <p>Id</p>\n",
    "            </td>\n",
    "            <td>\n",
    "                <p>Integer</p>\n",
    "            </td>\n",
    "            <td>\n",
    "                <p>Max of Number of Records</p>\n",
    "            </td>\n",
    "            <td>\n",
    "                <p>Unique to patient</p>\n",
    "            </td>\n",
    "            <td>\n",
    "                <p>Anonymous patient record identifier: Should be unique values unless patient has multiple sessions</p>\n",
    "            </td>\n",
    "            <td>\n",
    "                <p>Anonymous patient record identifier: Should be unique value per patient. Patient can have multiple sessions</p>\n",
    "            </td>\n",
    "        </tr>\n",
    "        <tr>\n",
    "            <td>\n",
    "                <p>Indication</p>\n",
    "            </td>\n",
    "            <td>\n",
    "                <p>Nominal</p>\n",
    "            </td>\n",
    "            <td>\n",
    "                <p>Four</p>\n",
    "            </td>\n",
    "            <td>\n",
    "                <p>{a-f, asx, cva, tia}</p>\n",
    "            </td>\n",
    "            <td>\n",
    "                <p>What type of Cardiovascular event triggered the hospitalisation?</p>\n",
    "            </td>\n",
    "            <td>\n",
    "                <p>What type of Cardiovascular event triggered the hospitalisation?</p><p> a-f :&nbsp;Atrial-Fibrillation</p>\n",
    "                <p>asx&nbsp;:&nbsp;Asymptomatic Stenosis&nbsp;</p><p>cva&nbsp;: Cardiovascular Arrest</p>\n",
    "                <p>tia&nbsp;:&nbsp;Transient Ischemic Attack (\"mini-heart attack\")</p>\n",
    "            </td>\n",
    "        </tr>\n",
    "        <tr>\n",
    "            <td>\n",
    "                <p>Diabetes</p>\n",
    "            </td>\n",
    "            <td>\n",
    "                <p>Nominal</p>\n",
    "            </td>\n",
    "            <td>\n",
    "                <p>Two</p>\n",
    "            </td>\n",
    "            <td>\n",
    "                <p>{no, yes}</p>\n",
    "            </td>\n",
    "            <td>\n",
    "                <p>Does the patient suffer from Diabetes?</p>\n",
    "            </td>\n",
    "            <td>\n",
    "                <p>Does the patient suffer from Diabetes?</p>\n",
    "            </td>\n",
    "        </tr>\n",
    "        <tr>\n",
    "            <td>\n",
    "                <p>IHD</p>\n",
    "            </td>\n",
    "            <td>\n",
    "                <p>Nominal</p>\n",
    "            </td>\n",
    "            <td>\n",
    "                <p>Two</p>\n",
    "            </td>\n",
    "            <td>\n",
    "                <p>{no, yes}</p>\n",
    "            </td>\n",
    "            <td>\n",
    "                <p>Does the patient suffer from Coronary artery disease (CAD), also known as ischemic heart disease (IHD)?</p>\n",
    "            </td>\n",
    "            <td>\n",
    "                <p>Does the patient suffer from Coronary artery disease (CAD), also known as ischemic heart disease (IHD)?</p>\n",
    "            </td>\n",
    "        </tr>\n",
    "        <tr>\n",
    "            <td>\n",
    "                <p>Hypertension</p>\n",
    "            </td>\n",
    "            <td>\n",
    "                <p>Nominal</p>\n",
    "            </td>\n",
    "            <td>\n",
    "                <p>Two</p>\n",
    "            </td>\n",
    "            <td>\n",
    "                <p>{no, yes}</p>\n",
    "            </td>\n",
    "            <td>\n",
    "                <p>Does the patient suffer from Hypertension?</p>\n",
    "            </td>\n",
    "            <td>\n",
    "                <p>Does the patient suffer from Hypertension?</p>\n",
    "            </td>\n",
    "        </tr>\n",
    "        <tr>\n",
    "            <td>\n",
    "                <p>Arrhythmia</p>\n",
    "            </td>\n",
    "            <td>\n",
    "                <p>Nominal</p>\n",
    "            </td>\n",
    "            <td>\n",
    "                <p>Two</p>\n",
    "            </td>\n",
    "            <td>\n",
    "                <p>{no, yes}</p>\n",
    "            </td>\n",
    "            <td>\n",
    "                <p>Does the patient suffer from</p>\n",
    "                <p>Arrhythmia (i.e. erratic heart beat)?</p>\n",
    "            </td>\n",
    "            <td>\n",
    "                <p>Does the patient suffer from Arrhythmia (i.e. erratic&nbsp;heart beat)?</p>\n",
    "            </td>\n",
    "        </tr>\n",
    "        <tr>\n",
    "            <td>\n",
    "                <p>History</p>\n",
    "            </td>\n",
    "            <td>\n",
    "                <p>Nominal</p>\n",
    "            </td>\n",
    "            <td>\n",
    "                <p>Two</p>\n",
    "            </td>\n",
    "            <td>\n",
    "                <p>{no, yes}</p>\n",
    "            </td>\n",
    "            <td>\n",
    "                <p>Has the patient a history of</p>\n",
    "                <p>Cardiovascular interventions?</p>\n",
    "            </td>\n",
    "            <td>\n",
    "                <p>Has the patient a history of Cardiovascular interventions?</p>\n",
    "            </td>\n",
    "        </tr>\n",
    "        <tr>\n",
    "            <td>\n",
    "                <p>IPSI</p>\n",
    "            </td>\n",
    "            <td>\n",
    "                <p>Integer</p>\n",
    "            </td>\n",
    "            <td>\n",
    "                <p>Potentially 101</p>\n",
    "            </td>\n",
    "            <td>\n",
    "                <p>[0, 100]</p>\n",
    "            </td>\n",
    "            <td>\n",
    "                <p>Percentage figure for cerebral ischemic lesions defined as ipsilateral</p>\n",
    "            </td>\n",
    "            <td>\n",
    "                <p>Percentage figure for cerebral ischemic lesions defined as ipsilateral</p>\n",
    "            </td>\n",
    "        </tr>\n",
    "        <tr>\n",
    "            <td>\n",
    "                <p>Contra</p>\n",
    "            </td>\n",
    "            <td>\n",
    "                <p>Integer</p>\n",
    "            </td>\n",
    "            <td>\n",
    "                <p>Potentially 101</p>\n",
    "            </td>\n",
    "            <td>\n",
    "                <p>[0, 100]</p>\n",
    "            </td>\n",
    "            <td>\n",
    "                <p>Percentage figure for contralateral cerebral ischemic lesions</p>\n",
    "            </td>\n",
    "            <td>\n",
    "                <p>Percentage figure for contralateral cerebral ischemic lesions</p>\n",
    "            </td>\n",
    "        </tr>\n",
    "        <tr>\n",
    "            <td>\n",
    "                <p>Label</p>\n",
    "            </td>\n",
    "            <td>\n",
    "                <p>Nominal</p>\n",
    "            </td>\n",
    "            <td>\n",
    "                <p>Two</p>\n",
    "            </td>\n",
    "            <td>\n",
    "                <p>{risk, norisk}</p>\n",
    "            </td>\n",
    "            <td>\n",
    "                <p>Is the patient at risk (Mortality)?</p>\n",
    "            </td>\n",
    "            <td>\n",
    "                <p>Is the patient at risk (Mortality)?</p>\n",
    "            </td>\n",
    "        </tr>\n",
    "    </tbody>"
   ]
  },
  {
   "cell_type": "markdown",
   "metadata": {},
   "source": [
    "<br>\n",
    "<b style=\"color: red;\">NOTE:</b> \"Session\" is also included in the non-clinical description, but not included in the data dictionary.\n",
    "<br>\n",
    "<table>\n",
    "    <tr>\n",
    "        <td>\n",
    "            <p><strong>Attribute</strong></p>\n",
    "        </td>\n",
    "        <td>\n",
    "            <p><strong>Value Type</strong></p>\n",
    "        </td>\n",
    "        <td>\n",
    "            <p><strong>NumberOfValues</strong></p>\n",
    "        </td>\n",
    "        <td>\n",
    "            <p><strong>Values</strong></p>\n",
    "        </td>\n",
    "        <td>\n",
    "            <p><strong>Comment</strong></p>\n",
    "        </td>\n",
    "        <td>\n",
    "            <p><strong>Non-clinical Description</strong></p>\n",
    "        </td>\n",
    "    </tr>\n",
    "    <tr>\n",
    "        <td>\n",
    "            <p>Session</p>\n",
    "        </td>\n",
    "        <td>\n",
    "            <p>Unknown</p>\n",
    "        </td>\n",
    "        <td>\n",
    "            <p>Max Number of Records (assumed)</p>\n",
    "        </td>\n",
    "        <td>\n",
    "            <p>Unique to patient</p>\n",
    "        </td>\n",
    "        <td>\n",
    "            <p>Unknown</p>\n",
    "        </td>\n",
    "        <td>\n",
    "            <p>Anonymous patient session identifier.</p>\n",
    "        </td>\n",
    "    </tr>\n",
    "</table>\n",
    "<br>"
   ]
  },
  {
   "cell_type": "markdown",
   "metadata": {},
   "source": [
    "<a href=\"#contents\">[back to top]</a>"
   ]
  },
  {
   "cell_type": "markdown",
   "metadata": {},
   "source": [
    "<a id=\"122\"></a>\n",
    "<h4>1.2.2. Data Correctness</h4>\n",
    "Check for data conformity to data dictionary and explore common pitfalls (e.g. missing or duplicate data). All checks are collated in a dictionary (\"concerns\") by  type of check (e.g. \"MISSING DATA\") to help notebook readability."
   ]
  },
  {
   "cell_type": "markdown",
   "metadata": {},
   "source": [
    "<a id=\"1221\"></a>\n",
    "<h5>1.2.2.1 Checking for Missing Data</h5>\n",
    "Look for records containing nan or missing values:"
   ]
  },
  {
   "cell_type": "code",
   "execution_count": 5,
   "metadata": {},
   "outputs": [],
   "source": [
    "df = rawData.copy()\n",
    "concerns[\"MISSING DATA\"] = [Indent() + \"The following columns have missing data:\"] ## Init list for missing data concerns.\n",
    "records = []\n",
    "\n",
    "for col in rawColNames:\n",
    "    nans = df[col][df[col].isna() == True]\n",
    "    indexes = nans.index.values\n",
    "    nNans = len(nans)\n",
    "    \n",
    "    if (nNans > 0):\n",
    "        concernStr = (Indent(2) + col + \" has \" + str(nNans) + \" nan values at indexes:\" + str(indexes))\n",
    "        concerns[\"MISSING DATA\"].append(concernStr)\n",
    "        records += list(indexes)\n",
    "\n",
    "nRecords = len(set(records))\n",
    "percent = (100/rawNRows) * nRecords\n",
    "concerns[\"MISSING DATA\"][0] = (Indent() + \"The following columns have missing data which affects \" + str(nRecords) + \" records (\" + str(round(percent, 2)) + \"% of all records).\")"
   ]
  },
  {
   "cell_type": "markdown",
   "metadata": {},
   "source": [
    "<a href=\"#contents\">[back to top]</a>"
   ]
  },
  {
   "cell_type": "markdown",
   "metadata": {},
   "source": [
    "<!-- <a href=\"#0\">[back to top]</a> -->"
   ]
  },
  {
   "cell_type": "markdown",
   "metadata": {},
   "source": [
    "<a id=\"1222\"></a>\n",
    "<h5>1.2.2.2 Checking for Duplicated Data</h5>\n",
    "Look for records that are entirely the same or very similiar (e.g. allow different values for random or id)."
   ]
  },
  {
   "cell_type": "code",
   "execution_count": 6,
   "metadata": {},
   "outputs": [],
   "source": [
    "## Helper function for checking for duplicates when any number of columns are dropped.\n",
    "## ''' ignore == list of columns to drop '''\n",
    "def CheckForDuplicates(ignore=[]):\n",
    "    df = rawData.copy()#.dropna()\n",
    "    dupes = df.drop(columns=ignore)[df.drop(columns=ignore).duplicated() == True]\n",
    "    if dupes.shape[0] > 0:\n",
    "        return dupes\n",
    "    else:\n",
    "        return 0 # \"No duplicates.\"\n",
    "    \n",
    "## Helper function for appending duplicates to concerns.\n",
    "## ''' dupes == df => result from CheckForDuplicates() '''\n",
    "## ''' out == bool => print output or not '''\n",
    "def AppendDuplicateConcerns(dupes, ignore=\"NO\", out=False):\n",
    "    if (type(returnVal) != int):\n",
    "        ## When ignoring # columns, there are n duplicated records at indexes [].\n",
    "        nDupes = str(len(dupes))\n",
    "        indexes = dupes.index.values\n",
    "        concerns[\"DUPLICATED DATA\"].append(Indent(2) + str(nDupes) + \" duplicates were found when ignoring columns \" + str(ignore) + \" at indexes \" + str(indexes))\n",
    "        if (out):\n",
    "            print(dupes)"
   ]
  },
  {
   "cell_type": "markdown",
   "metadata": {},
   "source": [
    "Check for records that are complete duplicates:"
   ]
  },
  {
   "cell_type": "code",
   "execution_count": 7,
   "metadata": {},
   "outputs": [],
   "source": [
    "concerns[\"DUPLICATED DATA\"] = [Indent() + \"The following potential duplicates were found:\"] ## Init list.\n",
    "returnVal = CheckForDuplicates()\n",
    "AppendDuplicateConcerns(returnVal)"
   ]
  },
  {
   "cell_type": "markdown",
   "metadata": {},
   "source": [
    "Check for records that are duplicates when any single column is removed:"
   ]
  },
  {
   "cell_type": "code",
   "execution_count": 8,
   "metadata": {},
   "outputs": [],
   "source": [
    "for col in rawColNames:\n",
    "    returnVal = CheckForDuplicates(ignore=[col])\n",
    "    AppendDuplicateConcerns(returnVal, [col])"
   ]
  },
  {
   "cell_type": "markdown",
   "metadata": {},
   "source": [
    "Check for records that are duplicates when any pair of features are ignored:"
   ]
  },
  {
   "cell_type": "code",
   "execution_count": 9,
   "metadata": {},
   "outputs": [],
   "source": [
    "## Nested for loop to check ALL combinatory pairs.\n",
    "i = 0\n",
    "for colO in rawColNames: ## Outer column; i.e. column[n].\n",
    "    i+=1\n",
    "    for colI in rawColNames[i:]: ## Inner column; i.e. column[n+1].\n",
    "        ignoring = [colO, colI]\n",
    "        returnVal = CheckForDuplicates(ignore=ignoring)\n",
    "        AppendDuplicateConcerns(returnVal, ignore=ignoring)"
   ]
  },
  {
   "cell_type": "markdown",
   "metadata": {},
   "source": [
    "Check for records that are duplicates when any trio of features are ignored:\n",
    "\n",
    "<b style=\"color: red\">NOTE:</b> this code has been commented out for readability. The omission of random and id results and any other feature results 90%+ \"duplicates\"."
   ]
  },
  {
   "cell_type": "code",
   "execution_count": 10,
   "metadata": {},
   "outputs": [],
   "source": [
    "# i = 0\n",
    "# j = 1\n",
    "# for colO in rawColNames: ## Outer column; i.e. column[n].\n",
    "#     i += 1\n",
    "#     for colI in rawColNames[i:]: ## Inner column; i.e. column[n+1].\n",
    "#         j += 1\n",
    "#         for colIM in rawColNames[j:]: ## Innermost column; i.e. column[n+1+1].\n",
    "#             ignoring = [colO, colI, colIM]\n",
    "#             returnVal = CheckForDuplicates(ignore=ignoring)\n",
    "#             AppendDuplicateConcerns(returnVal, ignore=ignoring)"
   ]
  },
  {
   "cell_type": "markdown",
   "metadata": {},
   "source": [
    "<a href=\"#contents\">[back to top]</a>"
   ]
  },
  {
   "cell_type": "markdown",
   "metadata": {},
   "source": [
    "<a id=\"1223\"></a>\n",
    "<h5>1.2.2.3 Checking for Corrupted Data</h5>\n",
    "Create an object that defines a set of assumptions as described in the data dictionary and flag any concerns."
   ]
  },
  {
   "cell_type": "code",
   "execution_count": 11,
   "metadata": {},
   "outputs": [],
   "source": [
    "# Dict derived from data dictionary for automated checking.\n",
    "## key == column name.\n",
    "## - valType == python data type.\n",
    "## - nVals == range of accepted values for continuous column.\n",
    "## - vals == possible values for any categoric or discrete column.\n",
    "\n",
    "dataAssumptions = {\n",
    "    \"random\":{ ## Col name.\n",
    "        \"valType\": float, ## Real.\n",
    "        \"nVals\": (rawNRows, rawNRows), # Unique per record.\n",
    "    },  \n",
    "    \"id\":{\n",
    "        \"valType\": int,## Integer.\n",
    "        \"nVals\": (1, rawNRows), ## Unique per patient.\n",
    "    },\n",
    "    \"indication\":{\n",
    "        \"valType\": str, ## Nominal.\n",
    "        \"vals\": [\"a-f\",\"asx\",\"cva\",\"tia\"] ## Possible values (except nan).\n",
    "    },\n",
    "    \"diabetes\":{\n",
    "        \"valType\": str, ## Nominal.\n",
    "        \"vals\": [\"yes\", \"no\"]\n",
    "    },\n",
    "    \"ihd\":{\n",
    "        \"valType\": str, ## Nominal.\n",
    "        \"vals\": [\"yes\", \"no\"]\n",
    "    },\n",
    "    \"hypertension\":{\n",
    "        \"valType\": str, ## Nominal.\n",
    "        \"vals\": [\"yes\", \"no\"]\n",
    "    },\n",
    "    \"arrhythmia\":{\n",
    "        \"valType\": str, ## Nominal.\n",
    "        \"vals\": [\"yes\", \"no\"]\n",
    "    },\n",
    "    \"history\": {\n",
    "        \"valType\": str, ## Nominal.\n",
    "        \"vals\": [\"yes\", \"no\"]\n",
    "    },\n",
    "    \"ipsi\": {\n",
    "        \"valType\": int, ## Integer.\n",
    "        \"vals\": np.arange(0,101) # Percentage.\n",
    "    },\n",
    "    \"contra\": {\n",
    "        \"valType\": int, ## Integer.\n",
    "        \"vals\": np.arange(0,101), # Percentage.\n",
    "    },\n",
    "    \"label\": {\n",
    "        \"valType\": str, ## Nominal.\n",
    "        \"vals\": [\"risk\", \"norisk\"]\n",
    "    },\n",
    "    \"session\":{ ## This feature was given separate to the dictionary.\n",
    "        \"valType\": object, # Unknown.\n",
    "        \"nVals\": (1, rawNRows), ## Unique per patient (assumed).\n",
    "    },\n",
    "}"
   ]
  },
  {
   "cell_type": "markdown",
   "metadata": {},
   "source": [
    "Check that all expected columns exist in the data:"
   ]
  },
  {
   "cell_type": "code",
   "execution_count": 12,
   "metadata": {},
   "outputs": [],
   "source": [
    "df = rawData.copy()#.dropna()\n",
    "concerns[\"MISSING COLUMNS\"] = [Indent() + \"The following expected columns are missing from the data:\"] ## Init list.\n",
    "\n",
    "for key in dataAssumptions:\n",
    "    if (key not in rawColNames):\n",
    "        concerns[\"MISSING COLUMNS\"].append(Indent(2) + key)\n",
    "# print(concerns[\"MISSING COLUMNS\"])"
   ]
  },
  {
   "cell_type": "markdown",
   "metadata": {},
   "source": [
    "Check that the number of unique values or categories (excluding nan) in each column is as expected."
   ]
  },
  {
   "cell_type": "code",
   "execution_count": 13,
   "metadata": {},
   "outputs": [],
   "source": [
    "df = rawData.copy().dropna()\n",
    "concerns[\"NUMBER OF UNIQUE VALUES\"] = [Indent() + \"The following columns have an unexpected number of unique values or categories:\"] ## Init list.\n",
    "\n",
    "for k, v in dataAssumptions.items(): ## k = key, v == value.\n",
    "    if (k in rawColNames): ## If it is a column we are aware of...\n",
    "        actualNValues = len(df[k].unique()) ## Get unique values.\n",
    "        try:\n",
    "            expectedNValues = (1, len(v[\"vals\"])) ## Assume is a discrete or categoric column.\n",
    "        except:\n",
    "            expectedNValues = v[\"nVals\"] ## Actually, column is continuous.\n",
    "\n",
    "        if (not(actualNValues >= expectedNValues[0]) or not(actualNValues <= expectedNValues[1])): ## Check actual number of values is within the expected range.           \n",
    "            concerns[\"NUMBER OF UNIQUE VALUES\"].append(Indent(2) + k + \"\\n\" + Indent(3) + \"Expected: \" + str(expectedNValues) + \"\\n\" + Indent(3)+ \"Actual: \" + str(actualNValues))"
   ]
  },
  {
   "cell_type": "markdown",
   "metadata": {},
   "source": [
    "Check that the unique values or categories in each column are as expected."
   ]
  },
  {
   "cell_type": "code",
   "execution_count": 14,
   "metadata": {},
   "outputs": [],
   "source": [
    "df = rawData.copy()#.dropna()\n",
    "concerns[\"EXPECTED VALUES\"] = [Indent() + \"The following columns have unexpected values or categories:\"] ## Init list.\n",
    "\n",
    "for k, v in dataAssumptions.items(): ## k = key, v == value.\n",
    "    if (k in rawColNames):\n",
    "        actualValues = df[k].dropna().unique() ## Ignore nan values for this check.\n",
    "        try: ## Assume column is categorical/discrete.\n",
    "            expectedValues = v[\"vals\"]\n",
    "            if (not(set(actualValues) & set(expectedValues))):\n",
    "                concerns[\"EXPECTED VALUES\"].append(Indent(2) + k+ \"\\n\" + Indent(3)+ \"Expected: \" + str(set(expectedValues)) + \"\\n\" + Indent(3)+ \"Actual: \" + str(set(actualValues)) + \"\\n\")\n",
    "        except: ## Is not categorical column.\n",
    "            continue "
   ]
  },
  {
   "cell_type": "markdown",
   "metadata": {},
   "source": [
    "Check that the data type of each column is as expected:"
   ]
  },
  {
   "cell_type": "code",
   "execution_count": 15,
   "metadata": {},
   "outputs": [],
   "source": [
    "df = rawData.copy()#.dropna()\n",
    "concerns[\"EXPECTED TYPES\"] = [Indent() + \"The following columns have entries of the wrong data type:\"] ## Init list.\n",
    "\n",
    "for k, v in dataAssumptions.items(): ## k = key, v == value.\n",
    "    if (k in rawColNames):\n",
    "        actualT = df[k].dropna().describe().dtypes ## Ignore nan values for this check.\n",
    "        expectedT = v[\"valType\"] \n",
    "\n",
    "        if (expectedT == int or expectedT == float):\n",
    "            correctT = is_numeric_dtype(actualT) ## Check is numeric.\n",
    "        else:\n",
    "            correctT = is_string_dtype(actualT) ## Check is obj/str.\n",
    "        \n",
    "        if (not correctT):\n",
    "            concerns[\"EXPECTED TYPES\"].append(Indent(2) + k + \"\\n\" + Indent(3) + \"Expected: \" + str(expectedT) + \"\\n\" + Indent(3) +\"Actual: \" + str(actualT))"
   ]
  },
  {
   "cell_type": "markdown",
   "metadata": {},
   "source": [
    "<a id=\"1224\"></a>\n",
    "<h5>1.2.2.4. Evaluation of Concerns</h5>\n",
    "Look at collated concerns before further analysis."
   ]
  },
  {
   "cell_type": "code",
   "execution_count": 16,
   "metadata": {},
   "outputs": [
    {
     "name": "stdout",
     "output_type": "stream",
     "text": [
      "\n",
      "MISSING DATA\n",
      "\n",
      "    The following columns have missing data which affects 17 records (1.12% of all records).\n",
      "        indication has 3 nan values at indexes:[ 442  822 1007]\n",
      "        diabetes has 2 nan values at indexes:[447 514]\n",
      "        hypertension has 3 nan values at indexes:[201 590 983]\n",
      "        history has 2 nan values at indexes:[337 784]\n",
      "        ipsi has 4 nan values at indexes:[620 752 845 916]\n",
      "        label has 3 nan values at indexes:[ 812  974 1418]\n",
      "\n",
      "________________________________________________________________\n",
      "\n",
      "\n",
      "DUPLICATED DATA\n",
      "\n",
      "    The following potential duplicates were found:\n",
      "        1094 duplicates were found when ignoring columns ['random', 'id'] at indexes [  13   62   65 ... 1517 1518 1519]\n",
      "        1 duplicates were found when ignoring columns ['id', 'contra'] at indexes [1134]\n",
      "\n",
      "________________________________________________________________\n",
      "\n",
      "\n",
      "MISSING COLUMNS\n",
      "\n",
      "    The following expected columns are missing from the data:\n",
      "        session\n",
      "\n",
      "________________________________________________________________\n",
      "\n",
      "\n",
      "NUMBER OF UNIQUE VALUES\n",
      "\n",
      "    The following columns have an unexpected number of unique values or categories:\n",
      "        random\n",
      "            Expected: (1520, 1520)\n",
      "            Actual: 1212\n",
      "        indication\n",
      "            Expected: (1, 4)\n",
      "            Actual: 5\n",
      "        label\n",
      "            Expected: (1, 2)\n",
      "            Actual: 3\n",
      "\n",
      "________________________________________________________________\n",
      "\n",
      "\n",
      "EXPECTED VALUES\n",
      "\n",
      "    The following columns have unexpected values or categories:\n",
      "        indication\n",
      "            Expected: {'asx', 'cva', 'a-f', 'tia'}\n",
      "            Actual: {'CVA', 'TIA', 'Asx', 'A-F', 'ASx'}\n",
      "\n",
      "        contra\n",
      "            Expected: {0, 1, 2, 3, 4, 5, 6, 7, 8, 9, 10, 11, 12, 13, 14, 15, 16, 17, 18, 19, 20, 21, 22, 23, 24, 25, 26, 27, 28, 29, 30, 31, 32, 33, 34, 35, 36, 37, 38, 39, 40, 41, 42, 43, 44, 45, 46, 47, 48, 49, 50, 51, 52, 53, 54, 55, 56, 57, 58, 59, 60, 61, 62, 63, 64, 65, 66, 67, 68, 69, 70, 71, 72, 73, 74, 75, 76, 77, 78, 79, 80, 81, 82, 83, 84, 85, 86, 87, 88, 89, 90, 91, 92, 93, 94, 95, 96, 97, 98, 99, 100}\n",
      "            Actual: {'40 ', '62', '65', '20', '60 ', '35', '90', '50', '100', '70 ', '75', '70', '40', '95', '75 ', '45 ', '80', '60', '100 ', '65 ', '51 ', '16 ', '50 ', '85 ', '85', '55 ', '30', '10 ', '55', '90 ', '30 ', '20 ', '15 ', '79', '25 ', '80 ', ' ', '35 ', '53', '10', '73 '}\n",
      "\n",
      "        label\n",
      "            Expected: {'norisk', 'risk'}\n",
      "            Actual: {'Risk', 'Unknown', 'NoRisk'}\n",
      "\n",
      "\n",
      "________________________________________________________________\n",
      "\n",
      "\n",
      "EXPECTED TYPES\n",
      "\n",
      "    The following columns have entries of the wrong data type:\n",
      "        contra\n",
      "            Expected: <class 'int'>\n",
      "            Actual: object\n",
      "\n",
      "________________________________________________________________\n",
      "\n"
     ]
    }
   ],
   "source": [
    "actions = [] ## Create list to store actions to be carried out in the cleaning phase.\n",
    "\n",
    "for key in concerns:\n",
    "    print (\"\\n\" + str(key) + \"\\n\")\n",
    "    for val in concerns[key]:\n",
    "        print(val)\n",
    "    print(\"\\n________________________________________________________________\\n\")"
   ]
  },
  {
   "cell_type": "markdown",
   "metadata": {},
   "source": [
    "<b>Missing Data</b>\n",
    "\n",
    "Thankfully, there is a very small amount of data missing. With only 1.12% of the data affected, the effect of imputing values would probably be slight, or even cause more harm than good.\n",
    "\n",
    "- <p style=\"color: red\">Initially, the 17 records will be removed.<p>\n",
    "\n",
    "- <p style=\"color: red\">For continued analysis (i.e. plotting distributions etc.) these records will be ignored for the time being.</p>"
   ]
  },
  {
   "cell_type": "code",
   "execution_count": 17,
   "metadata": {},
   "outputs": [],
   "source": [
    "actions.append(\"Drop nan values. (cleanData = cleanData.dropna())\")"
   ]
  },
  {
   "cell_type": "markdown",
   "metadata": {},
   "source": [
    "<b>Duplicated Data</b>\n",
    "\n",
    "1. This check finds that no records are duplicated in their entirety, or when a single column is ignored.\n",
    "\n",
    "\n",
    "2. When pairs of columns are ignored, some duplicates appear.\n",
    "    - 1094 duplicates were found when ignoring columns ['random', 'id'].\n",
    "    \n",
    "        This suggests quite a homogenous data set regardless of duplicates, since these features are the only ones supposed to be unique. This suggestion is supported by the quantity of 'duplicates', the fact that no duplicates were reported when 'random' alone was removed, and the fact that id is unique as expected (see below).\n",
    "    \n",
    "    -\n",
    "        \n",
    "    - 1 duplicates were found when ignoring columns ['id', 'contra'].\n",
    "    \n",
    "        Assuming that this dataset was manually created in a tool like Excel, a telltale sign would be if the duplicate records are next to each other.\n",
    "\n",
    "\n",
    "3. Checking for duplicates with combinations of 3 features removed proved redundant based on the effect of removing 'id' and 'random'; removing another column means almost all of the data (90%+) is duplicated, which is assumed tp be highly unlikely.\n",
    "\n",
    "-\n",
    "\n",
    "To be thorough, a check can be made for the locality of supposed duplicates. A depth of 3 has been selected arbitrarily (i.e. check if a given record is the same as any of the next 3 records): "
   ]
  },
  {
   "cell_type": "code",
   "execution_count": 18,
   "metadata": {},
   "outputs": [
    {
     "data": {
      "text/plain": [
       "{'1 records away': [(493, 494), (889, 890), (1043, 1044), (1243, 1244)],\n",
       " '2 records away': [(452, 454)],\n",
       " '3 records away': []}"
      ]
     },
     "execution_count": 18,
     "metadata": {},
     "output_type": "execute_result"
    }
   ],
   "source": [
    "df = rawData.copy()#.dropna()\n",
    "df = df.drop(columns=[\"id\",\"random\"])\n",
    "df = df[df.duplicated(keep=False) == True]\n",
    "depth = 3 ## Look for duplicates that are up-to n.. records apart.\n",
    "\n",
    "# Init lists in dictionary.\n",
    "dupes = {}\n",
    "for i in range(1, depth + 1):\n",
    "    dupes[str(i) + \" records away\"] = []\n",
    "\n",
    "i = 0\n",
    "for index, row in df.iterrows():\n",
    "    i += 1\n",
    "    for nextIndex, nextRow in df[i:i+1].iterrows(): ## Grab next record.\n",
    "        for j in range(1, depth + 1):\n",
    "            if ((nextIndex == index + j) and set(row) == set(nextRow)): ## Check if index is local and values are same.\n",
    "                dupes[str(j) + \" records away\"].append((index, nextIndex))\n",
    "        \n",
    "dupes"
   ]
  },
  {
   "cell_type": "markdown",
   "metadata": {},
   "source": [
    "This additional check shows that 4 of the duplicates found in this subset of the data are found consecutively. Similarly, 1 duplicate is found with a single record between it and the possible duplicate, and no duplicates are 3 apart.\n",
    "\n",
    "This check makes the assumption that the given data is in the same order as it was created, and that the chances of inputing the same record more than 3 records away is unlikely.\n",
    "\n",
    "- <p style=\"color: red\">Based on these assumptions and the small amount of reasonable/local duplicates, it may be wise to leave these datapoints out of the models to begin with.</p>"
   ]
  },
  {
   "cell_type": "code",
   "execution_count": 19,
   "metadata": {},
   "outputs": [],
   "source": [
    "actions.append(\"Remove possible duplicates. (cleanData = cleanData.drop([493,889,1043,1243,452]))\")"
   ]
  },
  {
   "cell_type": "markdown",
   "metadata": {},
   "source": [
    "<b>Missing Columns</b>\n",
    "\n",
    "The check shows that the \"session\" column is missing, which isn't actually in the given data dictionary. Since all patient id's are unique in this data set, it could be that it has been removed because there are no additional visits (sessions) for any record.\n",
    "\n",
    "Out of curiosity and on the off-chance that this assumption is incorrect, consideration was given to the possibility that the session information might be encoded into the random or id features.\n",
    "\n",
    "To explore this, the data was opened in Excel to see how the data behaved when the format was changed to date or time. This revealed that the random values were a lot larger than displayed in the jupyter notebook (e.g. 0.6893308196912509) and neither the id or random features could be reliably converted.\n",
    "\n",
    "\n",
    "- <p style=\"color: red\">Ultimately, model creation will continue under the assumption that the session column is deliberately omitted.</p>"
   ]
  },
  {
   "cell_type": "markdown",
   "metadata": {},
   "source": [
    "<b>Number of Unique Values</b>\n",
    "\n",
    "This check found issues with the number of values in the random, indication, and label columns.\n",
    "\n",
    "RANDOM:\n",
    "\n",
    "    Expected: 1520\n",
    "    Actual: 1212\n",
    "\n",
    "    Random is described as being unique per-patient in the data dictionary, hence the expected 1520 values. Presumably,\n",
    "    however, the missing values can be attributed to duplicated or nan values."
   ]
  },
  {
   "cell_type": "code",
   "execution_count": 20,
   "metadata": {},
   "outputs": [
    {
     "name": "stdout",
     "output_type": "stream",
     "text": [
      "1520 total records.\n",
      "298  unique 'random' values are missing.\n",
      "298 'random' values are duplicated.\n",
      "0 'random' values are nan.\n",
      "0 remain records unaccounted for.\n"
     ]
    }
   ],
   "source": [
    "df = rawData.copy()\n",
    "print (str(df.shape[0]) + \" total records.\")\n",
    "nDupes = df[df[\"random\"].duplicated() == True].shape[0]\n",
    "nMissing = df[\"random\"].shape[0] - df[\"random\"].unique().shape[0]\n",
    "nNan = df[df[\"random\"] == np.isnan].shape[0]\n",
    "print(str(nMissing) + \"  unique 'random' values are missing.\")\n",
    "print(str(nDupes) + \" 'random' values are duplicated.\")\n",
    "print(str(nNan) + \" 'random' values are nan.\")\n",
    "stillMissing = nMissing - (nDupes + nNan)\n",
    "print (str(stillMissing) + \" remain records unaccounted for.\")"
   ]
  },
  {
   "cell_type": "markdown",
   "metadata": {},
   "source": [
    "The random feature may still be random, but it isn't unique as as described in the data dictionary. The possibility that information is encoded in the random value is possible but seems unlikely, and has been explored to some degree in regard to the missing, \"session\" column. These ideas can be explored further by taking some statistical mesasures:"
   ]
  },
  {
   "cell_type": "code",
   "execution_count": 21,
   "metadata": {},
   "outputs": [
    {
     "name": "stdout",
     "output_type": "stream",
     "text": [
      "Mean: 0.5095450426428438\n",
      "Median: 0.517615648147363\n",
      "Mode: 0.506596920679855\n",
      "Std: 0.28400622461301955\n"
     ]
    },
    {
     "data": {
      "image/png": "[encoded data removed]",
      "text/plain": [
       "<Figure size 432x288 with 1 Axes>"
      ]
     },
     "metadata": {
      "needs_background": "light"
     },
     "output_type": "display_data"
    },
    {
     "data": {
      "image/png": "[encoded data removed]",
      "text/plain": [
       "<Figure size 432x288 with 1 Axes>"
      ]
     },
     "metadata": {
      "needs_background": "light"
     },
     "output_type": "display_data"
    }
   ],
   "source": [
    "df = rawData.copy()\n",
    "df = df[\"random\"]\n",
    "print(\"Mean: \" + str(df.mean()))\n",
    "print(\"Median: \" + str(df.median()))\n",
    "print(\"Mode: \" + str(df.mode()[0]))\n",
    "print(\"Std: \" + str(df.std()))\n",
    "df.plot(kind='hist',title='Random')\n",
    "plt.show()\n",
    "df.plot(kind='hist',title='Random', bins=100)\n",
    "plt.show()"
   ]
  },
  {
   "cell_type": "markdown",
   "metadata": {},
   "source": [
    "While it isn't unique the plateu/random histogram and similarities of the different averages supports that it is random, which means it should add little-no value to any classifications.\n",
    "\n",
    "- <p style=\"color: red\">Remove random as feature.</p>"
   ]
  },
  {
   "cell_type": "code",
   "execution_count": 22,
   "metadata": {},
   "outputs": [],
   "source": [
    "actions.append(\"Remove 'random' feature. (cleanData = cleanData.drop(columns=['random']))\")"
   ]
  },
  {
   "cell_type": "markdown",
   "metadata": {},
   "source": [
    "INDICATION:\n",
    "\n",
    "    Expected: 1 to 4\n",
    "    Actual: 5"
   ]
  },
  {
   "cell_type": "code",
   "execution_count": 23,
   "metadata": {},
   "outputs": [
    {
     "data": {
      "text/plain": [
       "array(['A-F', 'TIA', 'CVA', 'ASx', 'Asx', nan], dtype=object)"
      ]
     },
     "execution_count": 23,
     "metadata": {},
     "output_type": "execute_result"
    }
   ],
   "source": [
    "df = rawData.copy()\n",
    "df = df[\"indication\"]\n",
    "df.unique()"
   ]
  },
  {
   "cell_type": "code",
   "execution_count": 24,
   "metadata": {},
   "outputs": [
    {
     "name": "stdout",
     "output_type": "stream",
     "text": [
      "ASx count: 186\n",
      "Asx count: 32\n"
     ]
    }
   ],
   "source": [
    "print(\"ASx count: \" + str(len(df[df == \"ASx\"])))\n",
    "print(\"Asx count: \" + str(len(df[df == \"Asx\"])))"
   ]
  },
  {
   "cell_type": "markdown",
   "metadata": {},
   "source": [
    "The data dictionary provides 4 classes for the indication feature, but there are 5.\n",
    "\n",
    "ASx and Asx could potentially be 2 separate classes, considering that neither value is a one-off, but based on the dictionary, it might be safe to assume human error.\n",
    "\n",
    "- <p style=\"color: red\">Treat the 2 'asx' variations as the same; convert all values to lowercase.</p>"
   ]
  },
  {
   "cell_type": "code",
   "execution_count": 25,
   "metadata": {},
   "outputs": [],
   "source": [
    "actions.append(\"Convert 'indications' to lower case. (cleanData['indication'] = cleanData['indication'].apply(lambda x: str(x).lower()))\")"
   ]
  },
  {
   "cell_type": "markdown",
   "metadata": {},
   "source": [
    "LABEL:\n",
    "\n",
    "    Expected: 1 to 2\n",
    "    Actual: 3"
   ]
  },
  {
   "cell_type": "code",
   "execution_count": 26,
   "metadata": {},
   "outputs": [
    {
     "data": {
      "text/plain": [
       "array(['NoRisk', 'Risk', 'Unknown', nan], dtype=object)"
      ]
     },
     "execution_count": 26,
     "metadata": {},
     "output_type": "execute_result"
    }
   ],
   "source": [
    "df = rawData.copy()\n",
    "df = df[\"label\"]\n",
    "df.unique()"
   ]
  },
  {
   "cell_type": "code",
   "execution_count": 27,
   "metadata": {},
   "outputs": [
    {
     "name": "stdout",
     "output_type": "stream",
     "text": [
      "Unknown count: 2\n",
      "Indexes: [475 523]\n"
     ]
    }
   ],
   "source": [
    "indexes = df[df == \"Unknown\"].index.values\n",
    "print(\"Unknown count: \" + str(len(df[df == \"Unknown\"])))\n",
    "print(\"Indexes: \" + str(indexes))"
   ]
  },
  {
   "cell_type": "markdown",
   "metadata": {},
   "source": [
    "The data dictionary provides 2 classes for the label feature (risk, norisk), but there are 3 (excluding nan).\n",
    "\n",
    "Since the purpose of the end model will be to predict risk or no-risk, and since there are only 2 \"unknown\" classifications, it makes most senseto remove these records as they are not represented well enough to understand further. \n",
    "\n",
    "The label could be imputed, but there is not enough domain knowledge to justify this and the only 2 records would hopefully provide little-no benefit.\n",
    "\n",
    "- <p style=\"color: red\">Remove records classified as \"unknown\".</p>"
   ]
  },
  {
   "cell_type": "code",
   "execution_count": 28,
   "metadata": {},
   "outputs": [],
   "source": [
    "actions.append(\"Remove 'unknown' cases. (cleanData = cleanData.drop([475, 523]))\")"
   ]
  },
  {
   "cell_type": "markdown",
   "metadata": {},
   "source": [
    "<b>Expected Values</b>\n",
    "\n",
    "There were unexpected values found in columns: indication, contra, label. Label and indication have been adressed in the previous section.\n",
    "\n",
    "It is clear to see that contra was raised because the expected values are integers (as per the data dictionary), whilst actual values are strings.\n",
    "\n",
    "Some of these strings are blank, which will need to be converted to nan and missing data will be re-evaluated."
   ]
  },
  {
   "cell_type": "code",
   "execution_count": 29,
   "metadata": {},
   "outputs": [
    {
     "name": "stdout",
     "output_type": "stream",
     "text": [
      "0 additional nans created.\n"
     ]
    }
   ],
   "source": [
    "df = rawData.copy()\n",
    "df['contra'] = df['contra'].replace(r'^\\s*$', np.nan, regex=True)\n",
    "df['contra'] = df['contra'].apply(lambda x: float(x))\n",
    "nNans = len(cleanData[\"contra\"][cleanData[\"contra\"].isna() == True])\n",
    "print(str(nNans) + \" additional nans created.\")"
   ]
  },
  {
   "cell_type": "markdown",
   "metadata": {},
   "source": [
    "To begin with, remove the record.\n",
    "\n",
    "- <p style=\"color: red\">Convert blank-string values to nan.</p>\n",
    "- <p style=\"color: red\">Convert contra column to numeric.</p>\n",
    "- <p style=\"color: red\">Remove nan.</p>"
   ]
  },
  {
   "cell_type": "code",
   "execution_count": 30,
   "metadata": {},
   "outputs": [],
   "source": [
    "actions.append(\"Convert 'contra' blanks to nan. (cleanData['contra'] = cleanData['contra'].replace(r'^\\s*$', np.nan, regex=True))\") ## https://stackoverflow.com/a/21942746 [acessed 20/11/19]\n",
    "actions.append(\"Convert 'contra' values to numbers. (cleanData['contra'] = cleanData['contra'].apply(lambda x: float(x)))\")\n",
    "actions.append(\"Remove additional nan. (cleanData = cleanData.dropna())\")"
   ]
  },
  {
   "cell_type": "markdown",
   "metadata": {},
   "source": [
    "<b>Expected Types</b>\n",
    "\n",
    "The only non-conforming feature was contra, which was resolved in the previous section.\n",
    "\n",
    "<b>Other</b>\n",
    "\n",
    "Since the id feature is unique to each patient and it hasn't been determined to contain session information, it can probably be dropped. This decision might be supported by a heatmap of correlations between features:"
   ]
  },
  {
   "cell_type": "code",
   "execution_count": 31,
   "metadata": {},
   "outputs": [
    {
     "data": {
      "text/plain": [
       "<matplotlib.axes._subplots.AxesSubplot at 0x218850b3848>"
      ]
     },
     "execution_count": 31,
     "metadata": {},
     "output_type": "execute_result"
    },
    {
     "data": {
      "image/png": "[encoded data removed]",
      "text/plain": [
       "<Figure size 648x360 with 2 Axes>"
      ]
     },
     "metadata": {
      "needs_background": "light"
     },
     "output_type": "display_data"
    }
   ],
   "source": [
    "df = rawData.copy()\n",
    "\n",
    "\n",
    "for col in df.columns.values:\n",
    "    df = df.replace([\"yes\", \"Risk\", \"no\", \"NoRisk\"], [1, 1, 0, 0]) ## https://pandas.pydata.org/pandas-docs/stable/reference/api/pandas.DataFrame.replace.html\n",
    "\n",
    "correlations = df.corr()\n",
    "plt.figure(figsize=(9,5))\n",
    "sns.heatmap(correlations, annot=True, cmap=\"YlGnBu\")"
   ]
  },
  {
   "cell_type": "markdown",
   "metadata": {},
   "source": [
    "The heatmap suggests that there is some correlation between random and id, but not much else.\n",
    "\n",
    "- <p style=\"color: red\">Drop id column.</p>"
   ]
  },
  {
   "cell_type": "code",
   "execution_count": 32,
   "metadata": {},
   "outputs": [],
   "source": [
    "actions.append(\"Drop id column. (cleanData = cleanData.drop(columns=['id']))\")"
   ]
  },
  {
   "cell_type": "markdown",
   "metadata": {},
   "source": [
    "<a href=\"#contents\">[back to top]</a>"
   ]
  },
  {
   "cell_type": "markdown",
   "metadata": {},
   "source": [
    "<a id=\"123\"></a>\n",
    "<h4>1.2.3. Data Distribution</h4>\n",
    "Plot data distribution to gain insight into the class balance, outliers and any other patterns."
   ]
  },
  {
   "cell_type": "code",
   "execution_count": 33,
   "metadata": {},
   "outputs": [
    {
     "data": {
      "text/plain": [
       "['Drop nan values. (cleanData = cleanData.dropna())',\n",
       " 'Remove possible duplicates. (cleanData = cleanData.drop([493,889,1043,1243,452]))',\n",
       " \"Remove 'random' feature. (cleanData = cleanData.drop(columns=['random']))\",\n",
       " \"Convert 'indications' to lower case. (cleanData['indication'] = cleanData['indication'].apply(lambda x: str(x).lower()))\",\n",
       " \"Remove 'unknown' cases. (cleanData = cleanData.drop([475, 523]))\",\n",
       " \"Convert 'contra' blanks to nan. (cleanData['contra'] = cleanData['contra'].replace(r'^\\\\s*$', np.nan, regex=True))\",\n",
       " \"Convert 'contra' values to numbers. (cleanData['contra'] = cleanData['contra'].apply(lambda x: float(x)))\",\n",
       " 'Remove additional nan. (cleanData = cleanData.dropna())',\n",
       " \"Drop id column. (cleanData = cleanData.drop(columns=['id']))\"]"
      ]
     },
     "execution_count": 33,
     "metadata": {},
     "output_type": "execute_result"
    }
   ],
   "source": [
    "actions"
   ]
  },
  {
   "cell_type": "code",
   "execution_count": 34,
   "metadata": {},
   "outputs": [
    {
     "data": {
      "text/html": [
       "<div>\n",
       "<style scoped>\n",
       "    .dataframe tbody tr th:only-of-type {\n",
       "        vertical-align: middle;\n",
       "    }\n",
       "\n",
       "    .dataframe tbody tr th {\n",
       "        vertical-align: top;\n",
       "    }\n",
       "\n",
       "    .dataframe thead th {\n",
       "        text-align: right;\n",
       "    }\n",
       "</style>\n",
       "<table border=\"1\" class=\"dataframe\">\n",
       "  <thead>\n",
       "    <tr style=\"text-align: right;\">\n",
       "      <th></th>\n",
       "      <th>indication</th>\n",
       "      <th>diabetes</th>\n",
       "      <th>ihd</th>\n",
       "      <th>hypertension</th>\n",
       "      <th>arrhythmia</th>\n",
       "      <th>history</th>\n",
       "      <th>ipsi</th>\n",
       "      <th>contra</th>\n",
       "      <th>label</th>\n",
       "    </tr>\n",
       "  </thead>\n",
       "  <tbody>\n",
       "    <tr>\n",
       "      <th>0</th>\n",
       "      <td>a-f</td>\n",
       "      <td>no</td>\n",
       "      <td>no</td>\n",
       "      <td>yes</td>\n",
       "      <td>no</td>\n",
       "      <td>no</td>\n",
       "      <td>78.0</td>\n",
       "      <td>20</td>\n",
       "      <td>NoRisk</td>\n",
       "    </tr>\n",
       "    <tr>\n",
       "      <th>1</th>\n",
       "      <td>tia</td>\n",
       "      <td>no</td>\n",
       "      <td>no</td>\n",
       "      <td>no</td>\n",
       "      <td>no</td>\n",
       "      <td>no</td>\n",
       "      <td>70.0</td>\n",
       "      <td>60</td>\n",
       "      <td>NoRisk</td>\n",
       "    </tr>\n",
       "    <tr>\n",
       "      <th>2</th>\n",
       "      <td>a-f</td>\n",
       "      <td>no</td>\n",
       "      <td>yes</td>\n",
       "      <td>yes</td>\n",
       "      <td>no</td>\n",
       "      <td>no</td>\n",
       "      <td>95.0</td>\n",
       "      <td>40</td>\n",
       "      <td>Risk</td>\n",
       "    </tr>\n",
       "    <tr>\n",
       "      <th>3</th>\n",
       "      <td>tia</td>\n",
       "      <td>no</td>\n",
       "      <td>no</td>\n",
       "      <td>yes</td>\n",
       "      <td>no</td>\n",
       "      <td>no</td>\n",
       "      <td>90.0</td>\n",
       "      <td>85</td>\n",
       "      <td>Risk</td>\n",
       "    </tr>\n",
       "    <tr>\n",
       "      <th>4</th>\n",
       "      <td>cva</td>\n",
       "      <td>no</td>\n",
       "      <td>no</td>\n",
       "      <td>no</td>\n",
       "      <td>no</td>\n",
       "      <td>no</td>\n",
       "      <td>70.0</td>\n",
       "      <td>20</td>\n",
       "      <td>NoRisk</td>\n",
       "    </tr>\n",
       "    <tr>\n",
       "      <th>...</th>\n",
       "      <td>...</td>\n",
       "      <td>...</td>\n",
       "      <td>...</td>\n",
       "      <td>...</td>\n",
       "      <td>...</td>\n",
       "      <td>...</td>\n",
       "      <td>...</td>\n",
       "      <td>...</td>\n",
       "      <td>...</td>\n",
       "    </tr>\n",
       "    <tr>\n",
       "      <th>1515</th>\n",
       "      <td>a-f</td>\n",
       "      <td>no</td>\n",
       "      <td>yes</td>\n",
       "      <td>no</td>\n",
       "      <td>no</td>\n",
       "      <td>no</td>\n",
       "      <td>76.0</td>\n",
       "      <td>60</td>\n",
       "      <td>NoRisk</td>\n",
       "    </tr>\n",
       "    <tr>\n",
       "      <th>1516</th>\n",
       "      <td>a-f</td>\n",
       "      <td>no</td>\n",
       "      <td>no</td>\n",
       "      <td>yes</td>\n",
       "      <td>yes</td>\n",
       "      <td>no</td>\n",
       "      <td>90.0</td>\n",
       "      <td>75</td>\n",
       "      <td>Risk</td>\n",
       "    </tr>\n",
       "    <tr>\n",
       "      <th>1517</th>\n",
       "      <td>tia</td>\n",
       "      <td>no</td>\n",
       "      <td>no</td>\n",
       "      <td>yes</td>\n",
       "      <td>no</td>\n",
       "      <td>no</td>\n",
       "      <td>75.0</td>\n",
       "      <td>20</td>\n",
       "      <td>NoRisk</td>\n",
       "    </tr>\n",
       "    <tr>\n",
       "      <th>1518</th>\n",
       "      <td>a-f</td>\n",
       "      <td>no</td>\n",
       "      <td>yes</td>\n",
       "      <td>no</td>\n",
       "      <td>no</td>\n",
       "      <td>no</td>\n",
       "      <td>70.0</td>\n",
       "      <td>45</td>\n",
       "      <td>NoRisk</td>\n",
       "    </tr>\n",
       "    <tr>\n",
       "      <th>1519</th>\n",
       "      <td>cva</td>\n",
       "      <td>no</td>\n",
       "      <td>no</td>\n",
       "      <td>no</td>\n",
       "      <td>no</td>\n",
       "      <td>no</td>\n",
       "      <td>60.0</td>\n",
       "      <td>20</td>\n",
       "      <td>NoRisk</td>\n",
       "    </tr>\n",
       "  </tbody>\n",
       "</table>\n",
       "<p>1495 rows × 9 columns</p>\n",
       "</div>"
      ],
      "text/plain": [
       "     indication diabetes  ihd hypertension arrhythmia history  ipsi  contra  \\\n",
       "0           a-f       no   no          yes         no      no  78.0      20   \n",
       "1           tia       no   no           no         no      no  70.0      60   \n",
       "2           a-f       no  yes          yes         no      no  95.0      40   \n",
       "3           tia       no   no          yes         no      no  90.0      85   \n",
       "4           cva       no   no           no         no      no  70.0      20   \n",
       "...         ...      ...  ...          ...        ...     ...   ...     ...   \n",
       "1515        a-f       no  yes           no         no      no  76.0      60   \n",
       "1516        a-f       no   no          yes        yes      no  90.0      75   \n",
       "1517        tia       no   no          yes         no      no  75.0      20   \n",
       "1518        a-f       no  yes           no         no      no  70.0      45   \n",
       "1519        cva       no   no           no         no      no  60.0      20   \n",
       "\n",
       "       label  \n",
       "0     NoRisk  \n",
       "1     NoRisk  \n",
       "2       Risk  \n",
       "3       Risk  \n",
       "4     NoRisk  \n",
       "...      ...  \n",
       "1515  NoRisk  \n",
       "1516    Risk  \n",
       "1517  NoRisk  \n",
       "1518  NoRisk  \n",
       "1519  NoRisk  \n",
       "\n",
       "[1495 rows x 9 columns]"
      ]
     },
     "execution_count": 34,
     "metadata": {},
     "output_type": "execute_result"
    }
   ],
   "source": [
    "df = rawData.copy()\n",
    "tempCleaned = rawData.copy()\n",
    "\n",
    "tempCleaned = tempCleaned.drop([493,889,1043,1243,452,475,523])\n",
    "tempCleaned = tempCleaned.drop(columns=[\"random\", \"id\"])\n",
    "tempCleaned[\"indication\"] = tempCleaned[\"indication\"].apply(lambda x: str(x).lower())\n",
    "tempCleaned[\"contra\"] = tempCleaned[\"contra\"].replace(r'^\\s*$', np.nan, regex=True)\n",
    "tempCleaned = tempCleaned.replace(\"nan\", np.nan)\n",
    "tempCleaned = tempCleaned.dropna()\n",
    "tempCleaned[\"contra\"] = tempCleaned[\"contra\"].apply(lambda x: int(x))\n",
    "\n",
    "tempCleaned"
   ]
  },
  {
   "cell_type": "code",
   "execution_count": 35,
   "metadata": {},
   "outputs": [
    {
     "name": "stdout",
     "output_type": "stream",
     "text": [
      "\n",
      "    RANDOM RAW                                                RANDOM CLEANED\n",
      "                                                                Column was removed.\n"
     ]
    },
    {
     "data": {
      "image/png": "[encoded data removed]",
      "text/plain": [
       "<Figure size 1080x216 with 1 Axes>"
      ]
     },
     "metadata": {
      "needs_background": "light"
     },
     "output_type": "display_data"
    },
    {
     "name": "stdout",
     "output_type": "stream",
     "text": [
      "\n",
      "    ID RAW                                                    ID CLEANED\n",
      "                                                                Column was removed.\n"
     ]
    },
    {
     "data": {
      "image/png": "[encoded data removed]",
      "text/plain": [
       "<Figure size 1080x216 with 1 Axes>"
      ]
     },
     "metadata": {
      "needs_background": "light"
     },
     "output_type": "display_data"
    },
    {
     "name": "stdout",
     "output_type": "stream",
     "text": [
      "\n",
      "    INDICATION RAW                                            INDICATION CLEANED\n"
     ]
    },
    {
     "data": {
      "image/png": "[encoded data removed]",
      "text/plain": [
       "<Figure size 1080x216 with 2 Axes>"
      ]
     },
     "metadata": {
      "needs_background": "light"
     },
     "output_type": "display_data"
    },
    {
     "name": "stdout",
     "output_type": "stream",
     "text": [
      "\n",
      "    DIABETES RAW                                            DIABETES CLEANED\n"
     ]
    },
    {
     "data": {
      "image/png": "[encoded data removed]",
      "text/plain": [
       "<Figure size 1080x216 with 2 Axes>"
      ]
     },
     "metadata": {
      "needs_background": "light"
     },
     "output_type": "display_data"
    },
    {
     "name": "stdout",
     "output_type": "stream",
     "text": [
      "\n",
      "    IHD RAW                                                    IHD CLEANED\n"
     ]
    },
    {
     "data": {
      "image/png": "[encoded data removed]",
      "text/plain": [
       "<Figure size 1080x216 with 2 Axes>"
      ]
     },
     "metadata": {
      "needs_background": "light"
     },
     "output_type": "display_data"
    },
    {
     "name": "stdout",
     "output_type": "stream",
     "text": [
      "\n",
      "    HYPERTENSION RAW                                        HYPERTENSION CLEANED\n"
     ]
    },
    {
     "data": {
      "image/png": "[encoded data removed]",
      "text/plain": [
       "<Figure size 1080x216 with 2 Axes>"
      ]
     },
     "metadata": {
      "needs_background": "light"
     },
     "output_type": "display_data"
    },
    {
     "name": "stdout",
     "output_type": "stream",
     "text": [
      "\n",
      "    ARRHYTHMIA RAW                                            ARRHYTHMIA CLEANED\n"
     ]
    },
    {
     "data": {
      "image/png": "[encoded data removed]",
      "text/plain": [
       "<Figure size 1080x216 with 2 Axes>"
      ]
     },
     "metadata": {
      "needs_background": "light"
     },
     "output_type": "display_data"
    },
    {
     "name": "stdout",
     "output_type": "stream",
     "text": [
      "\n",
      "    HISTORY RAW                                                HISTORY CLEANED\n"
     ]
    },
    {
     "data": {
      "image/png": "[encoded data removed]",
      "text/plain": [
       "<Figure size 1080x216 with 2 Axes>"
      ]
     },
     "metadata": {
      "needs_background": "light"
     },
     "output_type": "display_data"
    },
    {
     "name": "stdout",
     "output_type": "stream",
     "text": [
      "\n",
      "    IPSI RAW                                                IPSI CLEANED\n"
     ]
    },
    {
     "data": {
      "image/png": "[encoded data removed]",
      "text/plain": [
       "<Figure size 1080x216 with 2 Axes>"
      ]
     },
     "metadata": {
      "needs_background": "light"
     },
     "output_type": "display_data"
    },
    {
     "name": "stdout",
     "output_type": "stream",
     "text": [
      "\n",
      "    CONTRA RAW                                                CONTRA CLEANED\n"
     ]
    },
    {
     "data": {
      "image/png": "[encoded data removed]",
      "text/plain": [
       "<Figure size 1080x216 with 2 Axes>"
      ]
     },
     "metadata": {
      "needs_background": "light"
     },
     "output_type": "display_data"
    },
    {
     "name": "stdout",
     "output_type": "stream",
     "text": [
      "\n",
      "    LABEL RAW                                                LABEL CLEANED\n"
     ]
    },
    {
     "data": {
      "image/png": "[encoded data removed]",
      "text/plain": [
       "<Figure size 1080x216 with 2 Axes>"
      ]
     },
     "metadata": {
      "needs_background": "light"
     },
     "output_type": "display_data"
    }
   ],
   "source": [
    "for col in rawColNames:\n",
    "    ## d, l, n are just variables to calculate indentation\n",
    "    n = 7\n",
    "    l = len(col+ \" RAW\")\n",
    "    d = int((l / 4))\n",
    "    print(\"\\n\" + Indent() + col.upper() + \" RAW\" + Indent(14 - d) + col.upper() + \" CLEANED\")\n",
    "\n",
    "    plt.figure(figsize=(15,3))\n",
    "    plt.subplot(1, 2, 1)\n",
    "    df[col].hist()\n",
    "\n",
    "    if (col in tempCleaned.columns.values):\n",
    "        plt.subplot(1, 2, 2)\n",
    "        tempCleaned[col].hist()\n",
    "    else:\n",
    "        print(Indent(16) + \"Column was removed.\")\n",
    "\n",
    "    plt.show()"
   ]
  },
  {
   "cell_type": "markdown",
   "metadata": {},
   "source": [
    "and?"
   ]
  },
  {
   "cell_type": "code",
   "execution_count": null,
   "metadata": {},
   "outputs": [
    {
     "name": "stdout",
     "output_type": "stream",
     "text": [
      "                                                                RANDOM column was removed.\n",
      "                                                                ID column was removed.\n"
     ]
    },
    {
     "data": {
      "image/png": "[encoded data removed]",
      "text/plain": [
       "<Figure size 432x288 with 1 Axes>"
      ]
     },
     "metadata": {
      "needs_background": "light"
     },
     "output_type": "display_data"
    }
   ],
   "source": [
    "for col in rawColNames:\n",
    "    if (col in tempCleaned.columns.values):\n",
    "#         tempCleaned[col].hist()\n",
    "        sns.swarmplot(x=col,  hue=\"label\", data=tempCleaned[[col, \"label\"]])\n",
    "    else:\n",
    "        print(col.upper() + \" column was removed.\")\n",
    "\n",
    "    plt.show()"
   ]
  },
  {
   "cell_type": "code",
   "execution_count": null,
   "metadata": {},
   "outputs": [],
   "source": [
    "print(\"Mean:\\n\" + str(df.mean()))\n",
    "print(\"\\nMedian:\\n\" + str(df.median()))\n",
    "print(\"\\nMode:\\n\" + str(df.mode()))\n",
    "print(\"\\nStd:\\n\" + str(df.std()))"
   ]
  },
  {
   "cell_type": "code",
   "execution_count": null,
   "metadata": {},
   "outputs": [],
   "source": [
    "df = df.dropna()\n",
    "df = df[\"id\"]\n",
    "df = (df / 10000)/ 30  ## Simplify numbers to be between 0 and 1.\n",
    "df.hist(bins=12)"
   ]
  },
  {
   "cell_type": "code",
   "execution_count": null,
   "metadata": {},
   "outputs": [],
   "source": [
    "print(\"Mean: \" + str(df.mean()))\n",
    "print(\"Median: \" + str(df.median()))\n",
    "print(\"Mode: \" + str(df.mode()))\n",
    "print(\"Std: \" + str(df.std()))"
   ]
  },
  {
   "cell_type": "markdown",
   "metadata": {},
   "source": [
    "<a href=\"#contents\">[back to top]</a>"
   ]
  },
  {
   "cell_type": "markdown",
   "metadata": {},
   "source": [
    "<a id=\"124\"></a>\n",
    "<h4>1.2.4. Feature Inspection</h4>"
   ]
  },
  {
   "cell_type": "code",
   "execution_count": null,
   "metadata": {},
   "outputs": [],
   "source": []
  },
  {
   "cell_type": "markdown",
   "metadata": {},
   "source": [
    "<a href=\"#contents\">[back to top]</a>"
   ]
  },
  {
   "cell_type": "markdown",
   "metadata": {},
   "source": [
    "<a id=\"125\"></a>\n",
    "<h4>1.2.5. Evaluation of Understanding</h4>\n",
    "Output collated concerns and evaluate."
   ]
  },
  {
   "cell_type": "markdown",
   "metadata": {},
   "source": [
    "<a href=\"#contents\">[back to top]</a>"
   ]
  },
  {
   "cell_type": "markdown",
   "metadata": {},
   "source": [
    "<a id=\"126\"></a>\n",
    "<h4>1.2.6. Actions</h4>"
   ]
  },
  {
   "cell_type": "code",
   "execution_count": null,
   "metadata": {},
   "outputs": [],
   "source": []
  },
  {
   "cell_type": "markdown",
   "metadata": {},
   "source": [
    "<a href=\"#contents\">[back to top]</a>"
   ]
  },
  {
   "cell_type": "markdown",
   "metadata": {},
   "source": [
    "<a id=\"13\"></a>\n",
    "<h3>1.3. Data Preparation</h3>"
   ]
  },
  {
   "cell_type": "markdown",
   "metadata": {},
   "source": [
    "<a id=\"131\"></a>\n",
    "<h4>1.3.1. Cleaning</h4>"
   ]
  },
  {
   "cell_type": "markdown",
   "metadata": {},
   "source": [
    "<a href=\"#contents\">[back to top]</a>"
   ]
  },
  {
   "cell_type": "markdown",
   "metadata": {},
   "source": [
    "<a id=\"132\"></a>\n",
    "<h4>1.3.2. Transformation</h4>"
   ]
  },
  {
   "cell_type": "markdown",
   "metadata": {},
   "source": [
    "<a href=\"#contents\">[back to top]</a>"
   ]
  },
  {
   "cell_type": "markdown",
   "metadata": {},
   "source": [
    "<a id=\"133\"></a>\n",
    "<h4>1.3.3. Stratification (TTS)</h4>"
   ]
  },
  {
   "cell_type": "markdown",
   "metadata": {},
   "source": [
    "<a href=\"#contents\">[back to top]</a>"
   ]
  },
  {
   "cell_type": "markdown",
   "metadata": {},
   "source": [
    "<a id=\"14\"></a>\n",
    "<h3>1.4. Modeling</h3>"
   ]
  },
  {
   "cell_type": "code",
   "execution_count": null,
   "metadata": {},
   "outputs": [],
   "source": []
  },
  {
   "cell_type": "markdown",
   "metadata": {},
   "source": [
    "<a href=\"#contents\">[back to top]</a>"
   ]
  },
  {
   "cell_type": "markdown",
   "metadata": {},
   "source": [
    "<a id=\"15\"></a>\n",
    "<h3>1.5. Evaluation</h3>"
   ]
  },
  {
   "cell_type": "code",
   "execution_count": null,
   "metadata": {},
   "outputs": [],
   "source": []
  },
  {
   "cell_type": "markdown",
   "metadata": {},
   "source": [
    "<a href=\"#contents\">[back to top]</a>"
   ]
  },
  {
   "cell_type": "markdown",
   "metadata": {},
   "source": [
    "<a id=\"16\"></a>\n",
    "<h3>1.6. (Theoretical) Deployment</h3>"
   ]
  },
  {
   "cell_type": "code",
   "execution_count": null,
   "metadata": {},
   "outputs": [],
   "source": []
  },
  {
   "cell_type": "markdown",
   "metadata": {},
   "source": [
    "<a href=\"#contents\">[back to top]</a>"
   ]
  },
  {
   "cell_type": "code",
   "execution_count": null,
   "metadata": {},
   "outputs": [],
   "source": []
  }
 ],
 "metadata": {
  "kernelspec": {
   "display_name": "Python 3",
   "language": "python",
   "name": "python3"
  },
  "language_info": {
   "codemirror_mode": {
    "name": "ipython",
    "version": 3
   },
   "file_extension": ".py",
   "mimetype": "text/x-python",
   "name": "python",
   "nbconvert_exporter": "python",
   "pygments_lexer": "ipython3",
   "version": "3.7.5"
  }
 },
 "nbformat": 4,
 "nbformat_minor": 2
}
